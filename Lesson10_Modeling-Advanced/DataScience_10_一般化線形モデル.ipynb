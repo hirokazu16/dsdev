{
  "cells": [
    {
      "cell_type": "code",
      "execution_count": 13,
      "metadata": {
        "id": "Ps2R2tT85cJg"
      },
      "outputs": [],
      "source": [
        "# 必要なライブラリのimport\n",
        "import numpy as np\n",
        "import pandas as pd\n",
        "\n",
        "import statsmodels.formula.api as smf\n",
        "import statsmodels.api as sm\n",
        "\n",
        "import matplotlib.pyplot as plt\n",
        "import seaborn as sns\n",
        "\n",
        "sns.set_theme()"
      ]
    },
    {
      "cell_type": "code",
      "execution_count": 14,
      "metadata": {
        "colab": {
          "base_uri": "https://localhost:8080/",
          "height": 206
        },
        "id": "fmDM_UDG5jXI",
        "outputId": "d4cd9b75-335e-4b19-aa6d-fd670285584d"
      },
      "outputs": [
        {
          "data": {
            "text/html": [
              "<div>\n",
              "<style scoped>\n",
              "    .dataframe tbody tr th:only-of-type {\n",
              "        vertical-align: middle;\n",
              "    }\n",
              "\n",
              "    .dataframe tbody tr th {\n",
              "        vertical-align: top;\n",
              "    }\n",
              "\n",
              "    .dataframe thead th {\n",
              "        text-align: right;\n",
              "    }\n",
              "</style>\n",
              "<table border=\"1\" class=\"dataframe\">\n",
              "  <thead>\n",
              "    <tr style=\"text-align: right;\">\n",
              "      <th></th>\n",
              "      <th>Lost_number</th>\n",
              "      <th>Temperature</th>\n",
              "      <th>Humidity</th>\n",
              "    </tr>\n",
              "  </thead>\n",
              "  <tbody>\n",
              "    <tr>\n",
              "      <th>0</th>\n",
              "      <td>6</td>\n",
              "      <td>17.5</td>\n",
              "      <td>36</td>\n",
              "    </tr>\n",
              "    <tr>\n",
              "      <th>1</th>\n",
              "      <td>11</td>\n",
              "      <td>26.6</td>\n",
              "      <td>33</td>\n",
              "    </tr>\n",
              "    <tr>\n",
              "      <th>2</th>\n",
              "      <td>2</td>\n",
              "      <td>5.0</td>\n",
              "      <td>42</td>\n",
              "    </tr>\n",
              "    <tr>\n",
              "      <th>3</th>\n",
              "      <td>4</td>\n",
              "      <td>14.1</td>\n",
              "      <td>48</td>\n",
              "    </tr>\n",
              "    <tr>\n",
              "      <th>4</th>\n",
              "      <td>2</td>\n",
              "      <td>9.4</td>\n",
              "      <td>45</td>\n",
              "    </tr>\n",
              "  </tbody>\n",
              "</table>\n",
              "</div>"
            ],
            "text/plain": [
              "   Lost_number  Temperature  Humidity\n",
              "0            6         17.5        36\n",
              "1           11         26.6        33\n",
              "2            2          5.0        42\n",
              "3            4         14.1        48\n",
              "4            2          9.4        45"
            ]
          },
          "execution_count": 14,
          "metadata": {},
          "output_type": "execute_result"
        }
      ],
      "source": [
        "# CSVファイルのデータを読み込む\n",
        "data = pd.read_csv('./modeling-advanced.csv')\n",
        "\n",
        "# 先頭5件を表示\n",
        "data.head()"
      ]
    },
    {
      "cell_type": "code",
      "execution_count": 15,
      "metadata": {
        "id": "tVLmLm7BCRTb"
      },
      "outputs": [],
      "source": [
        "# 説明変数を気温のみで一般化線形モデルを作成\n",
        "model_1 = smf.glm('Lost_number ~ Temperature', data=data, family=sm.families.Poisson()).fit()"
      ]
    },
    {
      "cell_type": "code",
      "execution_count": 16,
      "metadata": {
        "colab": {
          "base_uri": "https://localhost:8080/"
        },
        "id": "NpaZwZmBCPN2",
        "outputId": "9171088a-4c69-451c-8827-cba54a6c83b5"
      },
      "outputs": [
        {
          "name": "stdout",
          "output_type": "stream",
          "text": [
            "                 Generalized Linear Model Regression Results                  \n",
            "==============================================================================\n",
            "Dep. Variable:            Lost_number   No. Observations:                   30\n",
            "Model:                            GLM   Df Residuals:                       28\n",
            "Model Family:                 Poisson   Df Model:                            1\n",
            "Link Function:                    Log   Scale:                          1.0000\n",
            "Method:                          IRLS   Log-Likelihood:                -57.672\n",
            "Date:                Thu, 22 May 2025   Deviance:                       5.1373\n",
            "Time:                        09:22:54   Pearson chi2:                     5.40\n",
            "No. Iterations:                     4   Pseudo R-squ. (CS):             0.9708\n",
            "Covariance Type:            nonrobust                                         \n",
            "===============================================================================\n",
            "                  coef    std err          z      P>|z|      [0.025      0.975]\n",
            "-------------------------------------------------------------------------------\n",
            "Intercept       0.4476      0.199      2.253      0.024       0.058       0.837\n",
            "Temperature     0.0761      0.008      9.784      0.000       0.061       0.091\n",
            "===============================================================================\n"
          ]
        }
      ],
      "source": [
        "# model_1の詳細を確認\n",
        "print(model_1.summary())"
      ]
    },
    {
      "cell_type": "code",
      "execution_count": 17,
      "metadata": {
        "id": "Rc1wqZD1Ci8w"
      },
      "outputs": [],
      "source": [
        "# 説明変数を気温・湿度で一般化線形モデルを作成\n",
        "model_2 = smf.glm('Lost_number ~ Temperature+Humidity', data=data, family=sm.families.Poisson()).fit()"
      ]
    },
    {
      "cell_type": "code",
      "execution_count": 18,
      "metadata": {
        "colab": {
          "base_uri": "https://localhost:8080/"
        },
        "id": "mnlwm8XwCkkE",
        "outputId": "bb952801-f2c2-491e-eab4-b6f055f3f871"
      },
      "outputs": [
        {
          "name": "stdout",
          "output_type": "stream",
          "text": [
            "                 Generalized Linear Model Regression Results                  \n",
            "==============================================================================\n",
            "Dep. Variable:            Lost_number   No. Observations:                   30\n",
            "Model:                            GLM   Df Residuals:                       27\n",
            "Model Family:                 Poisson   Df Model:                            2\n",
            "Link Function:                    Log   Scale:                          1.0000\n",
            "Method:                          IRLS   Log-Likelihood:                -57.668\n",
            "Date:                Thu, 22 May 2025   Deviance:                       5.1308\n",
            "Time:                        09:22:54   Pearson chi2:                     5.40\n",
            "No. Iterations:                     4   Pseudo R-squ. (CS):             0.9708\n",
            "Covariance Type:            nonrobust                                         \n",
            "===============================================================================\n",
            "                  coef    std err          z      P>|z|      [0.025      0.975]\n",
            "-------------------------------------------------------------------------------\n",
            "Intercept       0.4128      0.477      0.865      0.387      -0.523       1.348\n",
            "Temperature     0.0761      0.008      9.726      0.000       0.061       0.091\n",
            "Humidity        0.0008      0.010      0.080      0.936      -0.019       0.020\n",
            "===============================================================================\n"
          ]
        }
      ],
      "source": [
        "# model_2の詳細を確認\n",
        "print(model_2.summary())"
      ]
    },
    {
      "cell_type": "code",
      "execution_count": 19,
      "metadata": {
        "colab": {
          "base_uri": "https://localhost:8080/"
        },
        "id": "i32cXlNBC8tS",
        "outputId": "fdbfcb34-b575-41f4-d4c6-a712f32682b8"
      },
      "outputs": [
        {
          "name": "stdout",
          "output_type": "stream",
          "text": [
            "Model-1: 119.343\n",
            "Model-2: 121.337\n"
          ]
        }
      ],
      "source": [
        "# AICを比較\n",
        "print('Model-1:',model_1.aic.round(3))\n",
        "print('Model-2:',model_2.aic.round(3))"
      ]
    },
    {
      "cell_type": "code",
      "execution_count": 20,
      "metadata": {
        "colab": {
          "base_uri": "https://localhost:8080/",
          "height": 81
        },
        "id": "RSsGGj8_Dp8r",
        "outputId": "5eaff212-dede-41e6-b388-5ebf29a192e0"
      },
      "outputs": [
        {
          "data": {
            "text/html": [
              "<div>\n",
              "<style scoped>\n",
              "    .dataframe tbody tr th:only-of-type {\n",
              "        vertical-align: middle;\n",
              "    }\n",
              "\n",
              "    .dataframe tbody tr th {\n",
              "        vertical-align: top;\n",
              "    }\n",
              "\n",
              "    .dataframe thead th {\n",
              "        text-align: right;\n",
              "    }\n",
              "</style>\n",
              "<table border=\"1\" class=\"dataframe\">\n",
              "  <thead>\n",
              "    <tr style=\"text-align: right;\">\n",
              "      <th></th>\n",
              "      <th>Temperature</th>\n",
              "    </tr>\n",
              "  </thead>\n",
              "  <tbody>\n",
              "    <tr>\n",
              "      <th>0</th>\n",
              "      <td>10</td>\n",
              "    </tr>\n",
              "  </tbody>\n",
              "</table>\n",
              "</div>"
            ],
            "text/plain": [
              "   Temperature\n",
              "0           10"
            ]
          },
          "execution_count": 20,
          "metadata": {},
          "output_type": "execute_result"
        }
      ],
      "source": [
        "# 気温が10度の場合のデータフレームを作成\n",
        "sampleData_1 = pd.DataFrame({\"Temperature\": 10}, index=[0])\n",
        "sampleData_1"
      ]
    },
    {
      "cell_type": "code",
      "execution_count": 21,
      "metadata": {
        "colab": {
          "base_uri": "https://localhost:8080/"
        },
        "id": "nkCQ20JPD3GA",
        "outputId": "af9ad6c9-25be-4679-9e9c-957c1af8ca53"
      },
      "outputs": [
        {
          "data": {
            "text/plain": [
              "0    3.348029\n",
              "dtype: float64"
            ]
          },
          "execution_count": 21,
          "metadata": {},
          "output_type": "execute_result"
        }
      ],
      "source": [
        "# 気温が10度の場合の落とし物の数の予測値\n",
        "pred_1 = model_1.predict(sampleData_1)\n",
        "pred_1"
      ]
    },
    {
      "cell_type": "code",
      "execution_count": 22,
      "metadata": {
        "colab": {
          "base_uri": "https://localhost:8080/",
          "height": 81
        },
        "id": "BXOKC20-EDZa",
        "outputId": "dd3c35f5-4958-48ff-909f-c44cd6837805"
      },
      "outputs": [
        {
          "data": {
            "text/html": [
              "<div>\n",
              "<style scoped>\n",
              "    .dataframe tbody tr th:only-of-type {\n",
              "        vertical-align: middle;\n",
              "    }\n",
              "\n",
              "    .dataframe tbody tr th {\n",
              "        vertical-align: top;\n",
              "    }\n",
              "\n",
              "    .dataframe thead th {\n",
              "        text-align: right;\n",
              "    }\n",
              "</style>\n",
              "<table border=\"1\" class=\"dataframe\">\n",
              "  <thead>\n",
              "    <tr style=\"text-align: right;\">\n",
              "      <th></th>\n",
              "      <th>Temperature</th>\n",
              "      <th>Humidity</th>\n",
              "    </tr>\n",
              "  </thead>\n",
              "  <tbody>\n",
              "    <tr>\n",
              "      <th>0</th>\n",
              "      <td>10</td>\n",
              "      <td>30</td>\n",
              "    </tr>\n",
              "  </tbody>\n",
              "</table>\n",
              "</div>"
            ],
            "text/plain": [
              "   Temperature  Humidity\n",
              "0           10        30"
            ]
          },
          "execution_count": 22,
          "metadata": {},
          "output_type": "execute_result"
        }
      ],
      "source": [
        "# 気温が10度、湿度が30%の場合のデータフレームを作成\n",
        "sampleData_2 = pd.DataFrame({\"Temperature\": 10, \"Humidity\": 30}, index=[0])\n",
        "sampleData_2"
      ]
    },
    {
      "cell_type": "code",
      "execution_count": 23,
      "metadata": {
        "colab": {
          "base_uri": "https://localhost:8080/"
        },
        "id": "mmEPqLWVENxa",
        "outputId": "1c952aa1-ab90-4e12-a300-99fd37e1994f"
      },
      "outputs": [
        {
          "data": {
            "text/plain": [
              "0    3.314558\n",
              "dtype: float64"
            ]
          },
          "execution_count": 23,
          "metadata": {},
          "output_type": "execute_result"
        }
      ],
      "source": [
        "# 気温が10度、湿度が30%の場合の落とし物の数の予測値\n",
        "pred_2 = model_2.predict(sampleData_2)\n",
        "pred_2"
      ]
    },
    {
      "cell_type": "code",
      "execution_count": null,
      "metadata": {
        "colab": {
          "base_uri": "https://localhost:8080/",
          "height": 567
        },
        "id": "ykvfpoiJIKSk",
        "outputId": "1bc96d67-3ba8-4fee-c351-5a922fa862a6"
      },
      "outputs": [
        {
          "data": {
            "text/plain": [
              "[<matplotlib.lines.Line2D at 0x247c6e737a0>]"
            ]
          },
          "execution_count": 24,
          "metadata": {},
          "output_type": "execute_result"
        },
        {
          "data": {
            "image/png": "[encoded data removed]",
            "text/plain": [
              "<Figure size 900x600 with 1 Axes>"
            ]
          },
          "metadata": {},
          "output_type": "display_data"
        }
      ],
      "source": [
        "# 回帰曲線の図示\n",
        "fig, ax = plt.subplots(figsize=(9, 6))\n",
        "\n",
        "x = np.arange(0, 37)\n",
        "# predictメソッドには引数としてDataFrameを渡します。\n",
        "# pd.DataFrame()には、{\"列名\": 値}のようにカラム名をキーとする辞書を渡します。\n",
        "pred = model_1.predict(pd.DataFrame({'Temperature': x}))\n",
        "\n",
        "sns.scatterplot(x ='Temperature', y='Lost_number', data=data, s=70, ax=ax)\n",
        "ax.plot(x, pred, color='red', lw=3)"
      ]
    }
  ],
  "metadata": {
    "colab": {
      "provenance": []
    },
    "kernelspec": {
      "display_name": ".venv",
      "language": "python",
      "name": "python3"
    },
    "language_info": {
      "codemirror_mode": {
        "name": "ipython",
        "version": 3
      },
      "file_extension": ".py",
      "mimetype": "text/x-python",
      "name": "python",
      "nbconvert_exporter": "python",
      "pygments_lexer": "ipython3",
      "version": "3.12.10"
    }
  },
  "nbformat": 4,
  "nbformat_minor": 0
}
