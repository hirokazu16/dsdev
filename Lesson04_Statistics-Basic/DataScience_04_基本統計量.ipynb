{
  "cells": [
    {
      "cell_type": "code",
      "execution_count": 1,
      "metadata": {
        "id": "CVZaVXke8lNL"
      },
      "outputs": [],
      "source": [
        "# NumPyをimport\n",
        "import numpy as np"
      ]
    },
    {
      "cell_type": "code",
      "execution_count": 2,
      "metadata": {
        "id": "nRwLZMB485r3"
      },
      "outputs": [],
      "source": [
        "# 魚の体長データ\n",
        "fish_data = np.array([2,3,3,4,4,4,4,5,5,6])"
      ]
    },
    {
      "cell_type": "code",
      "execution_count": 3,
      "metadata": {
        "colab": {
          "base_uri": "https://localhost:8080/"
        },
        "id": "JYlTVLRR88wd",
        "outputId": "ffafd744-dfb7-44bc-8453-f943c8e2e735"
      },
      "outputs": [
        {
          "data": {
            "text/plain": [
              "np.int64(40)"
            ]
          },
          "execution_count": 3,
          "metadata": {},
          "output_type": "execute_result"
        }
      ],
      "source": [
        "# 合計値\n",
        "np.sum(fish_data)"
      ]
    },
    {
      "cell_type": "code",
      "execution_count": 4,
      "metadata": {
        "colab": {
          "base_uri": "https://localhost:8080/"
        },
        "id": "o3fcAm5u9B_0",
        "outputId": "bccd2f6c-cf2b-41f3-c9eb-3c8d2c7b69a4"
      },
      "outputs": [
        {
          "data": {
            "text/plain": [
              "np.float64(4.0)"
            ]
          },
          "execution_count": 4,
          "metadata": {},
          "output_type": "execute_result"
        }
      ],
      "source": [
        "# 平均値\n",
        "np.mean(fish_data)"
      ]
    },
    {
      "cell_type": "code",
      "execution_count": 5,
      "metadata": {
        "colab": {
          "base_uri": "https://localhost:8080/"
        },
        "id": "hZ1QPBKr9H-T",
        "outputId": "c165be74-dc75-4cb2-dddb-4cc3b59dd971"
      },
      "outputs": [
        {
          "data": {
            "text/plain": [
              "np.float64(4.0)"
            ]
          },
          "execution_count": 5,
          "metadata": {},
          "output_type": "execute_result"
        }
      ],
      "source": [
        "# 中央値\n",
        "np.median(fish_data)"
      ]
    },
    {
      "cell_type": "code",
      "execution_count": 6,
      "metadata": {
        "colab": {
          "base_uri": "https://localhost:8080/"
        },
        "id": "JlReIeLA9Okb",
        "outputId": "080e8a18-8943-4b89-f57b-137f5437cdfa"
      },
      "outputs": [
        {
          "data": {
            "text/plain": [
              "np.float64(1.2)"
            ]
          },
          "execution_count": 6,
          "metadata": {},
          "output_type": "execute_result"
        }
      ],
      "source": [
        "# 標本分散\n",
        "np.var(fish_data, ddof=0)"
      ]
    },
    {
      "cell_type": "code",
      "execution_count": 7,
      "metadata": {
        "colab": {
          "base_uri": "https://localhost:8080/"
        },
        "id": "aQxiWTwi9UQs",
        "outputId": "9ad4592b-5dde-4b89-b55d-2539bec9bcb7"
      },
      "outputs": [
        {
          "data": {
            "text/plain": [
              "np.float64(1.3333333333333333)"
            ]
          },
          "execution_count": 7,
          "metadata": {},
          "output_type": "execute_result"
        }
      ],
      "source": [
        "# 不偏分散\n",
        "np.var(fish_data, ddof=1)"
      ]
    },
    {
      "cell_type": "code",
      "execution_count": 8,
      "metadata": {
        "colab": {
          "base_uri": "https://localhost:8080/"
        },
        "id": "A_Lx6ua09bhN",
        "outputId": "8b6f7baa-5b1e-40c4-c101-52477b7cee26"
      },
      "outputs": [
        {
          "data": {
            "text/plain": [
              "np.float64(1.0954451150103321)"
            ]
          },
          "execution_count": 8,
          "metadata": {},
          "output_type": "execute_result"
        }
      ],
      "source": [
        "# 標本標準偏差\n",
        "np.std(fish_data, ddof=0)"
      ]
    },
    {
      "cell_type": "code",
      "execution_count": 9,
      "metadata": {
        "colab": {
          "base_uri": "https://localhost:8080/"
        },
        "id": "sshT1nBR9dW7",
        "outputId": "ebdd2cbe-887a-4fce-e3ec-29bc9a1f92bd"
      },
      "outputs": [
        {
          "data": {
            "text/plain": [
              "np.float64(1.1547005383792515)"
            ]
          },
          "execution_count": 9,
          "metadata": {},
          "output_type": "execute_result"
        }
      ],
      "source": [
        "# 不偏標準偏差\n",
        "np.std(fish_data, ddof=1)"
      ]
    }
  ],
  "metadata": {
    "colab": {
      "provenance": []
    },
    "kernelspec": {
      "display_name": ".venv",
      "language": "python",
      "name": "python3"
    },
    "language_info": {
      "codemirror_mode": {
        "name": "ipython",
        "version": 3
      },
      "file_extension": ".py",
      "mimetype": "text/x-python",
      "name": "python",
      "nbconvert_exporter": "python",
      "pygments_lexer": "ipython3",
      "version": "3.12.10"
    }
  },
  "nbformat": 4,
  "nbformat_minor": 0
}
