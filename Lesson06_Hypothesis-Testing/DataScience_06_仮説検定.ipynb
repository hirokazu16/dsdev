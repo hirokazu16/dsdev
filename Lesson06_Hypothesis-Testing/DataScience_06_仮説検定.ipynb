{
  "cells": [
    {
      "cell_type": "markdown",
      "metadata": {
        "id": "C9_x4EqvHiNW"
      },
      "source": [
        "### 基本的な仮説検定（1変量データのt検定）"
      ]
    },
    {
      "cell_type": "code",
      "execution_count": 1,
      "metadata": {
        "id": "vwD16ntukduz"
      },
      "outputs": [],
      "source": [
        "# 必要なライブラリのimport\n",
        "import numpy as np\n",
        "import pandas as pd\n",
        "from scipy import stats\n",
        "\n",
        "import matplotlib as mpl\n",
        "from matplotlib import pyplot as plt\n",
        "import seaborn as sns\n",
        "sns.set_theme()"
      ]
    },
    {
      "cell_type": "code",
      "execution_count": 2,
      "metadata": {
        "id": "2fcxcZF-kjur"
      },
      "outputs": [],
      "source": [
        "# CSVファイルの読み込み\n",
        "data1 = pd.read_csv('./hypothesis-testing-1.csv').squeeze(\"columns\")"
      ]
    },
    {
      "cell_type": "code",
      "execution_count": 3,
      "metadata": {
        "colab": {
          "base_uri": "https://localhost:8080/"
        },
        "id": "7nvYPM-gk2b6",
        "outputId": "817c9da8-3d21-4830-9d6d-f55b82f0bf40"
      },
      "outputs": [
        {
          "data": {
            "text/plain": [
              "np.float64(51.82018326803313)"
            ]
          },
          "execution_count": 3,
          "metadata": {},
          "output_type": "execute_result"
        }
      ],
      "source": [
        "# 標本平均の計算\n",
        "mu = np.mean(data1)\n",
        "mu"
      ]
    },
    {
      "cell_type": "code",
      "execution_count": 4,
      "metadata": {
        "colab": {
          "base_uri": "https://localhost:8080/"
        },
        "id": "7piRUWVSoVqu",
        "outputId": "de47ea97-6523-463a-e9cc-bd1e94b86976"
      },
      "outputs": [
        {
          "data": {
            "text/plain": [
              "29"
            ]
          },
          "execution_count": 4,
          "metadata": {},
          "output_type": "execute_result"
        }
      ],
      "source": [
        "# 自由度の計算\n",
        "df = len(data1) - 1\n",
        "df"
      ]
    },
    {
      "cell_type": "code",
      "execution_count": 5,
      "metadata": {
        "colab": {
          "base_uri": "https://localhost:8080/"
        },
        "id": "4l8AcYwwo-4e",
        "outputId": "af1de05a-72a1-46d3-ba30-e3f35b837059"
      },
      "outputs": [
        {
          "data": {
            "text/plain": [
              "np.float64(0.5621633454110073)"
            ]
          },
          "execution_count": 5,
          "metadata": {},
          "output_type": "execute_result"
        }
      ],
      "source": [
        "# 標準誤差の計算\n",
        "sigma = np.std(data1, ddof=1)\n",
        "se = sigma/np.sqrt(len(data1))\n",
        "se"
      ]
    },
    {
      "cell_type": "code",
      "execution_count": 6,
      "metadata": {
        "colab": {
          "base_uri": "https://localhost:8080/"
        },
        "id": "Xy40f7aDpzES",
        "outputId": "8af095fb-f0b7-459f-efe8-269ee6b0c1ce"
      },
      "outputs": [
        {
          "data": {
            "text/plain": [
              "np.float64(3.2378191906168468)"
            ]
          },
          "execution_count": 6,
          "metadata": {},
          "output_type": "execute_result"
        }
      ],
      "source": [
        "# t値の計算\n",
        "t_value = (mu-50)/se\n",
        "t_value"
      ]
    },
    {
      "cell_type": "code",
      "execution_count": 7,
      "metadata": {
        "colab": {
          "base_uri": "https://localhost:8080/"
        },
        "id": "AkYC-YPpqyaq",
        "outputId": "41b8fb7c-f016-43cd-f65c-42bffbea5a4d"
      },
      "outputs": [
        {
          "data": {
            "text/plain": [
              "np.float64(0.0030122666127776476)"
            ]
          },
          "execution_count": 7,
          "metadata": {},
          "output_type": "execute_result"
        }
      ],
      "source": [
        "# p値を計算（両側検定：2倍して両側の確率を求める）\n",
        "# t値の絶対値を取ってからcdfを計算し、上側確率を求めて2倍する\n",
        "alpha = stats.t.cdf(np.abs(t_value), df=df)\n",
        "p_value = (1 - alpha) * 2\n",
        "p_value"
      ]
    },
    {
      "cell_type": "code",
      "execution_count": 8,
      "metadata": {
        "colab": {
          "base_uri": "https://localhost:8080/"
        },
        "id": "3w2LZX1ez9Q1",
        "outputId": "11ee8bde-1387-4195-85a4-327371c5b7f4"
      },
      "outputs": [
        {
          "data": {
            "text/plain": [
              "TtestResult(statistic=np.float64(3.2378191906168468), pvalue=np.float64(0.0030122666127776216), df=np.int64(29))"
            ]
          },
          "execution_count": 8,
          "metadata": {},
          "output_type": "execute_result"
        }
      ],
      "source": [
        "# stats.ttest_1samp()を使ってp値を計算\n",
        "stats.ttest_1samp(data1, 50)"
      ]
    },
    {
      "cell_type": "code",
      "execution_count": 9,
      "metadata": {
        "colab": {
          "base_uri": "https://localhost:8080/"
        },
        "id": "kwfsqbVQ084d",
        "outputId": "bdf39fb9-7d88-44f9-8146-ff7f881f1202"
      },
      "outputs": [
        {
          "data": {
            "text/plain": [
              "np.float64(0.0015061333063888108)"
            ]
          },
          "execution_count": 9,
          "metadata": {},
          "output_type": "execute_result"
        }
      ],
      "source": [
        "# p値を計算（片側検定：H1: 平均 > 50）\n",
        "# t_value が観測された値。この値以上になる確率を求める (右側検定)\n",
        "p_value = stats.t.sf(t_value, df=df)\n",
        "p_value"
      ]
    },
    {
      "cell_type": "code",
      "execution_count": 10,
      "metadata": {},
      "outputs": [
        {
          "data": {
            "text/plain": [
              "TtestResult(statistic=np.float64(3.2378191906168468), pvalue=np.float64(0.0015061333063888108), df=np.int64(29))"
            ]
          },
          "execution_count": 10,
          "metadata": {},
          "output_type": "execute_result"
        }
      ],
      "source": [
        "# stats.ttest_1samp()を使って片側検定のp値を計算 (H1: 平均 > 50)\n",
        "stats.ttest_1samp(data1, 50, alternative='greater')"
      ]
    },
    {
      "cell_type": "markdown",
      "metadata": {
        "id": "kxCcKGoFHzbC"
      },
      "source": [
        "### 2変量データのt検定"
      ]
    },
    {
      "cell_type": "code",
      "execution_count": 11,
      "metadata": {
        "colab": {
          "base_uri": "https://localhost:8080/"
        },
        "id": "0sUUoP8sH1O4",
        "outputId": "ae0a8861-7308-413c-8220-db7e897c625f"
      },
      "outputs": [],
      "source": [
        "# CSVファイルの読み込み\n",
        "data2 = pd.read_csv('./hypothesis-testing-2.csv')"
      ]
    },
    {
      "cell_type": "code",
      "execution_count": 12,
      "metadata": {
        "colab": {
          "base_uri": "https://localhost:8080/",
          "height": 206
        },
        "id": "6fOPio3YIHCG",
        "outputId": "430d7867-0d10-4b62-fdfd-4384a195b98f"
      },
      "outputs": [
        {
          "data": {
            "text/html": [
              "<div>\n",
              "<style scoped>\n",
              "    .dataframe tbody tr th:only-of-type {\n",
              "        vertical-align: middle;\n",
              "    }\n",
              "\n",
              "    .dataframe tbody tr th {\n",
              "        vertical-align: top;\n",
              "    }\n",
              "\n",
              "    .dataframe thead th {\n",
              "        text-align: right;\n",
              "    }\n",
              "</style>\n",
              "<table border=\"1\" class=\"dataframe\">\n",
              "  <thead>\n",
              "    <tr style=\"text-align: right;\">\n",
              "      <th></th>\n",
              "      <th>2-years-old</th>\n",
              "      <th>3-years-old</th>\n",
              "    </tr>\n",
              "  </thead>\n",
              "  <tbody>\n",
              "    <tr>\n",
              "      <th>0</th>\n",
              "      <td>16.624345</td>\n",
              "      <td>14.600841</td>\n",
              "    </tr>\n",
              "    <tr>\n",
              "      <th>1</th>\n",
              "      <td>14.388244</td>\n",
              "      <td>14.984220</td>\n",
              "    </tr>\n",
              "    <tr>\n",
              "      <th>2</th>\n",
              "      <td>14.471828</td>\n",
              "      <td>14.606675</td>\n",
              "    </tr>\n",
              "    <tr>\n",
              "      <th>3</th>\n",
              "      <td>13.927031</td>\n",
              "      <td>14.401233</td>\n",
              "    </tr>\n",
              "    <tr>\n",
              "      <th>4</th>\n",
              "      <td>15.865408</td>\n",
              "      <td>14.627380</td>\n",
              "    </tr>\n",
              "  </tbody>\n",
              "</table>\n",
              "</div>"
            ],
            "text/plain": [
              "   2-years-old  3-years-old\n",
              "0    16.624345    14.600841\n",
              "1    14.388244    14.984220\n",
              "2    14.471828    14.606675\n",
              "3    13.927031    14.401233\n",
              "4    15.865408    14.627380"
            ]
          },
          "execution_count": 12,
          "metadata": {},
          "output_type": "execute_result"
        }
      ],
      "source": [
        "# データの先頭5行を表示\n",
        "data2.head()"
      ]
    },
    {
      "cell_type": "code",
      "execution_count": 13,
      "metadata": {
        "colab": {
          "base_uri": "https://localhost:8080/",
          "height": 206
        },
        "id": "tpV4MhGiIfE_",
        "outputId": "b07cefe0-8b56-4854-8509-e87407e41139"
      },
      "outputs": [
        {
          "data": {
            "text/html": [
              "<div>\n",
              "<style scoped>\n",
              "    .dataframe tbody tr th:only-of-type {\n",
              "        vertical-align: middle;\n",
              "    }\n",
              "\n",
              "    .dataframe tbody tr th {\n",
              "        vertical-align: top;\n",
              "    }\n",
              "\n",
              "    .dataframe thead th {\n",
              "        text-align: right;\n",
              "    }\n",
              "</style>\n",
              "<table border=\"1\" class=\"dataframe\">\n",
              "  <thead>\n",
              "    <tr style=\"text-align: right;\">\n",
              "      <th></th>\n",
              "      <th>2-years-old</th>\n",
              "      <th>3-years-old</th>\n",
              "      <th>Difference</th>\n",
              "    </tr>\n",
              "  </thead>\n",
              "  <tbody>\n",
              "    <tr>\n",
              "      <th>0</th>\n",
              "      <td>16.624345</td>\n",
              "      <td>14.600841</td>\n",
              "      <td>-2.023504</td>\n",
              "    </tr>\n",
              "    <tr>\n",
              "      <th>1</th>\n",
              "      <td>14.388244</td>\n",
              "      <td>14.984220</td>\n",
              "      <td>0.595977</td>\n",
              "    </tr>\n",
              "    <tr>\n",
              "      <th>2</th>\n",
              "      <td>14.471828</td>\n",
              "      <td>14.606675</td>\n",
              "      <td>0.134847</td>\n",
              "    </tr>\n",
              "    <tr>\n",
              "      <th>3</th>\n",
              "      <td>13.927031</td>\n",
              "      <td>14.401233</td>\n",
              "      <td>0.474201</td>\n",
              "    </tr>\n",
              "    <tr>\n",
              "      <th>4</th>\n",
              "      <td>15.865408</td>\n",
              "      <td>14.627380</td>\n",
              "      <td>-1.238028</td>\n",
              "    </tr>\n",
              "  </tbody>\n",
              "</table>\n",
              "</div>"
            ],
            "text/plain": [
              "   2-years-old  3-years-old  Difference\n",
              "0    16.624345    14.600841   -2.023504\n",
              "1    14.388244    14.984220    0.595977\n",
              "2    14.471828    14.606675    0.134847\n",
              "3    13.927031    14.401233    0.474201\n",
              "4    15.865408    14.627380   -1.238028"
            ]
          },
          "execution_count": 13,
          "metadata": {},
          "output_type": "execute_result"
        }
      ],
      "source": [
        "# 2変量の差を計算\n",
        "data2['Difference'] = data2['3-years-old'] - data2['2-years-old']\n",
        "data2.head()"
      ]
    },
    {
      "cell_type": "code",
      "execution_count": 14,
      "metadata": {
        "colab": {
          "base_uri": "https://localhost:8080/"
        },
        "id": "UyBkguP7JRcV",
        "outputId": "764d5f35-c3c8-4550-a47c-fb5c39a0fa94"
      },
      "outputs": [
        {
          "data": {
            "text/plain": [
              "TtestResult(statistic=np.float64(2.2128967603399947), pvalue=np.float64(0.03493196300425279), df=np.int64(29))"
            ]
          },
          "execution_count": 14,
          "metadata": {},
          "output_type": "execute_result"
        }
      ],
      "source": [
        "# 2歳魚と3歳魚の体長の差について「対応のある」t検定を実施し、p値を計算\n",
        "stats.ttest_1samp(data2['Difference'], 0)"
      ]
    },
    {
      "cell_type": "code",
      "execution_count": 15,
      "metadata": {
        "colab": {
          "base_uri": "https://localhost:8080/"
        },
        "id": "ISON2iVmKTqX",
        "outputId": "4c8c971c-11ae-48fe-e946-180eb34ca65c"
      },
      "outputs": [
        {
          "data": {
            "text/plain": [
              "TtestResult(statistic=np.float64(-2.40380764926468), pvalue=np.float64(0.01945646990570768), df=np.float64(57.7413195813171))"
            ]
          },
          "execution_count": 15,
          "metadata": {},
          "output_type": "execute_result"
        }
      ],
      "source": [
        "# 2歳魚と3歳魚の体長について「対応のない」t検定を実施し、p値を計算\n",
        "stats.ttest_ind(data2['2-years-old'], data2['3-years-old'], equal_var=False)"
      ]
    }
  ],
  "metadata": {
    "colab": {
      "provenance": []
    },
    "kernelspec": {
      "display_name": ".venv",
      "language": "python",
      "name": "python3"
    },
    "language_info": {
      "codemirror_mode": {
        "name": "ipython",
        "version": 3
      },
      "file_extension": ".py",
      "mimetype": "text/x-python",
      "name": "python",
      "nbconvert_exporter": "python",
      "pygments_lexer": "ipython3",
      "version": "3.12.10"
    }
  },
  "nbformat": 4,
  "nbformat_minor": 0
}
