{
  "cells": [
    {
      "cell_type": "code",
      "execution_count": 8,
      "metadata": {
        "id": "_ngJhSB-7RcU"
      },
      "outputs": [],
      "source": [
        "# 必要なライブラリのimport\n",
        "import pandas as pd\n",
        "import statsmodels.formula.api as smf\n",
        "import seaborn as sns\n",
        "\n",
        "sns.set_theme()"
      ]
    },
    {
      "cell_type": "code",
      "execution_count": 9,
      "metadata": {
        "id": "a8fw7cWQ7djq"
      },
      "outputs": [],
      "source": [
        "# irisのデータを読み込む\n",
        "data = sns.load_dataset('iris')"
      ]
    },
    {
      "cell_type": "code",
      "execution_count": 10,
      "metadata": {
        "id": "9qCJCmzm7uTW"
      },
      "outputs": [],
      "source": [
        "# 最小二乗法の実施（説明変数：sepal_widthのみ）\n",
        "model1 = smf.ols(formula='sepal_length ~ sepal_width', data=data).fit()"
      ]
    },
    {
      "cell_type": "code",
      "execution_count": 11,
      "metadata": {
        "id": "_lzmrbvh73PD"
      },
      "outputs": [],
      "source": [
        "# 最小二乗法の実施（説明変数：sepal_width・petal_length）\n",
        "model2 = smf.ols(formula='sepal_length ~ sepal_width+petal_length', data=data).fit()"
      ]
    },
    {
      "cell_type": "code",
      "execution_count": 12,
      "metadata": {
        "id": "gOnLlJE374o1"
      },
      "outputs": [],
      "source": [
        "# 最小二乗法の実施（説明変数：sepal_width・petal_length・petal_width）\n",
        "model3 = smf.ols(formula='sepal_length ~ sepal_width+petal_length+petal_width', data=data).fit()"
      ]
    },
    {
      "cell_type": "code",
      "execution_count": 13,
      "metadata": {
        "colab": {
          "base_uri": "https://localhost:8080/"
        },
        "id": "eHeJs87N7995",
        "outputId": "bdb94ffc-be8c-4293-ae95-7e352b3ea61f"
      },
      "outputs": [
        {
          "name": "stdout",
          "output_type": "stream",
          "text": [
            "Model-1: 369.9916713254629\n",
            "Model-2: 99.02549981959152\n",
            "Model-3: 82.64272058698862\n"
          ]
        }
      ],
      "source": [
        "# AICを計算する\n",
        "print('Model-1:',model1.aic)\n",
        "print('Model-2:',model2.aic)\n",
        "print('Model-3:',model3.aic)"
      ]
    },
    {
      "cell_type": "code",
      "execution_count": 14,
      "metadata": {
        "colab": {
          "base_uri": "https://localhost:8080/"
        },
        "id": "MNqzxdEF8Ib6",
        "outputId": "d0353950-fd5b-48fa-cfce-4cb04eedc506"
      },
      "outputs": [
        {
          "name": "stdout",
          "output_type": "stream",
          "text": [
            "                            OLS Regression Results                            \n",
            "==============================================================================\n",
            "Dep. Variable:           sepal_length   R-squared:                       0.859\n",
            "Model:                            OLS   Adj. R-squared:                  0.856\n",
            "Method:                 Least Squares   F-statistic:                     295.5\n",
            "Date:                Thu, 22 May 2025   Prob (F-statistic):           8.59e-62\n",
            "Time:                        08:58:03   Log-Likelihood:                -37.321\n",
            "No. Observations:                 150   AIC:                             82.64\n",
            "Df Residuals:                     146   BIC:                             94.69\n",
            "Df Model:                           3                                         \n",
            "Covariance Type:            nonrobust                                         \n",
            "================================================================================\n",
            "                   coef    std err          t      P>|t|      [0.025      0.975]\n",
            "--------------------------------------------------------------------------------\n",
            "Intercept        1.8560      0.251      7.401      0.000       1.360       2.352\n",
            "sepal_width      0.6508      0.067      9.765      0.000       0.519       0.783\n",
            "petal_length     0.7091      0.057     12.502      0.000       0.597       0.821\n",
            "petal_width     -0.5565      0.128     -4.363      0.000      -0.809      -0.304\n",
            "==============================================================================\n",
            "Omnibus:                        0.345   Durbin-Watson:                   2.060\n",
            "Prob(Omnibus):                  0.842   Jarque-Bera (JB):                0.504\n",
            "Skew:                           0.007   Prob(JB):                        0.777\n",
            "Kurtosis:                       2.716   Cond. No.                         54.7\n",
            "==============================================================================\n",
            "\n",
            "Notes:\n",
            "[1] Standard Errors assume that the covariance matrix of the errors is correctly specified.\n"
          ]
        }
      ],
      "source": [
        "# AICが最小のmodel3の詳細を表示\n",
        "print(model3.summary())"
      ]
    }
  ],
  "metadata": {
    "colab": {
      "provenance": []
    },
    "kernelspec": {
      "display_name": ".venv",
      "language": "python",
      "name": "python3"
    },
    "language_info": {
      "codemirror_mode": {
        "name": "ipython",
        "version": 3
      },
      "file_extension": ".py",
      "mimetype": "text/x-python",
      "name": "python",
      "nbconvert_exporter": "python",
      "pygments_lexer": "ipython3",
      "version": "3.12.10"
    }
  },
  "nbformat": 4,
  "nbformat_minor": 0
}
