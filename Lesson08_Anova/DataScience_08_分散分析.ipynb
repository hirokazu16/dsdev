{
  "cells": [
    {
      "cell_type": "markdown",
      "metadata": {
        "id": "733d9ou8nvy3"
      },
      "source": [
        "### 一元分散分析"
      ]
    },
    {
      "cell_type": "code",
      "execution_count": 148,
      "metadata": {
        "id": "yB-uKW6OozsU"
      },
      "outputs": [],
      "source": [
        "# 必要なライブラリのimport\n",
        "import pandas as pd\n",
        "import matplotlib.pyplot as plt\n",
        "import numpy as np\n",
        "import scipy as sp\n",
        "import seaborn as sns\n",
        "import statsmodels.formula.api as smf\n",
        "import statsmodels.api as sm\n",
        "\n",
        "sns.set_theme()"
      ]
    },
    {
      "cell_type": "code",
      "execution_count": 149,
      "metadata": {
        "id": "t7WG1jZ4pHOj"
      },
      "outputs": [],
      "source": [
        "# データの読み込み\n",
        "data1 = pd.read_csv('anova-1.csv')"
      ]
    },
    {
      "cell_type": "code",
      "execution_count": 150,
      "metadata": {
        "colab": {
          "base_uri": "https://localhost:8080/",
          "height": 206
        },
        "id": "taYVa7Wbq8AZ",
        "outputId": "05bd9439-f165-4f83-8182-fced52bd80df"
      },
      "outputs": [
        {
          "data": {
            "text/html": [
              "<div>\n",
              "<style scoped>\n",
              "    .dataframe tbody tr th:only-of-type {\n",
              "        vertical-align: middle;\n",
              "    }\n",
              "\n",
              "    .dataframe tbody tr th {\n",
              "        vertical-align: top;\n",
              "    }\n",
              "\n",
              "    .dataframe thead th {\n",
              "        text-align: right;\n",
              "    }\n",
              "</style>\n",
              "<table border=\"1\" class=\"dataframe\">\n",
              "  <thead>\n",
              "    <tr style=\"text-align: right;\">\n",
              "      <th></th>\n",
              "      <th>Body_Length</th>\n",
              "      <th>Body_Height</th>\n",
              "      <th>Feed</th>\n",
              "    </tr>\n",
              "  </thead>\n",
              "  <tbody>\n",
              "    <tr>\n",
              "      <th>0</th>\n",
              "      <td>34.873</td>\n",
              "      <td>8.597</td>\n",
              "      <td>A</td>\n",
              "    </tr>\n",
              "    <tr>\n",
              "      <th>1</th>\n",
              "      <td>28.165</td>\n",
              "      <td>5.555</td>\n",
              "      <td>A</td>\n",
              "    </tr>\n",
              "    <tr>\n",
              "      <th>2</th>\n",
              "      <td>28.415</td>\n",
              "      <td>3.874</td>\n",
              "      <td>A</td>\n",
              "    </tr>\n",
              "    <tr>\n",
              "      <th>3</th>\n",
              "      <td>26.781</td>\n",
              "      <td>3.084</td>\n",
              "      <td>A</td>\n",
              "    </tr>\n",
              "    <tr>\n",
              "      <th>4</th>\n",
              "      <td>32.596</td>\n",
              "      <td>6.270</td>\n",
              "      <td>A</td>\n",
              "    </tr>\n",
              "  </tbody>\n",
              "</table>\n",
              "</div>"
            ],
            "text/plain": [
              "   Body_Length  Body_Height Feed\n",
              "0       34.873        8.597    A\n",
              "1       28.165        5.555    A\n",
              "2       28.415        3.874    A\n",
              "3       26.781        3.084    A\n",
              "4       32.596        6.270    A"
            ]
          },
          "execution_count": 150,
          "metadata": {},
          "output_type": "execute_result"
        }
      ],
      "source": [
        "# データの確認\n",
        "data1.head()"
      ]
    },
    {
      "cell_type": "code",
      "execution_count": 151,
      "metadata": {
        "colab": {
          "base_uri": "https://localhost:8080/",
          "height": 497
        },
        "id": "EHiuxX8LpIjd",
        "outputId": "fdc732a8-5ad2-44e2-f1c8-69db52d388ba"
      },
      "outputs": [
        {
          "data": {
            "text/plain": [
              "<Axes: xlabel='Feed', ylabel='Body_Height'>"
            ]
          },
          "execution_count": 151,
          "metadata": {},
          "output_type": "execute_result"
        },
        {
          "data": {
            "image/png": "[encoded data removed]",
            "text/plain": [
              "<Figure size 1000x500 with 2 Axes>"
            ]
          },
          "metadata": {},
          "output_type": "display_data"
        }
      ],
      "source": [
        "# 箱ひげ図の作成\n",
        "f, axes = plt.subplots(1, 2, figsize=(10,5))\n",
        "\n",
        "sns.boxplot(x='Feed', y='Body_Length', data=data1, ax=axes[0])\n",
        "sns.boxplot(x='Feed', y='Body_Height', data=data1, ax=axes[1])"
      ]
    },
    {
      "cell_type": "code",
      "execution_count": 152,
      "metadata": {
        "colab": {
          "base_uri": "https://localhost:8080/"
        },
        "id": "njTqvU59qit1",
        "outputId": "c7dff50e-93ee-4bd0-e134-a4e9e63d6cc6"
      },
      "outputs": [
        {
          "name": "stdout",
          "output_type": "stream",
          "text": [
            "Feed A: 29.820099999999993\n",
            "Feed B: 40.2296\n",
            "Feed C: 35.49113333333333\n"
          ]
        }
      ],
      "source": [
        "# 飼料ごとの体長の平均\n",
        "me_Feed_A = np.mean(data1.query('Feed == \"A\"')['Body_Length'])\n",
        "me_Feed_B = np.mean(data1.query('Feed == \"B\"')['Body_Length'])\n",
        "me_Feed_C = np.mean(data1.query('Feed == \"C\"')['Body_Length'])\n",
        "print('Feed A:', me_Feed_A)\n",
        "print('Feed B:', me_Feed_B)\n",
        "print('Feed C:', me_Feed_C)"
      ]
    },
    {
      "cell_type": "code",
      "execution_count": 153,
      "metadata": {
        "colab": {
          "base_uri": "https://localhost:8080/"
        },
        "id": "pGR-RHIvrba3",
        "outputId": "5857d217-f98e-4bef-ce2e-d491c775cba5"
      },
      "outputs": [
        {
          "data": {
            "text/plain": [
              "np.float64(35.180277777777775)"
            ]
          },
          "execution_count": 153,
          "metadata": {},
          "output_type": "execute_result"
        }
      ],
      "source": [
        "# データ全体の体長の平均\n",
        "mu_all = np.mean(data1['Body_Length'])\n",
        "mu_all"
      ]
    },
    {
      "cell_type": "code",
      "execution_count": 154,
      "metadata": {
        "colab": {
          "base_uri": "https://localhost:8080/"
        },
        "id": "nYObiMa_r6w5",
        "outputId": "41477e7a-0b20-49d4-cff0-75a743f78949"
      },
      "outputs": [
        {
          "data": {
            "text/plain": [
              "np.float64(1629.71375668889)"
            ]
          },
          "execution_count": 154,
          "metadata": {},
          "output_type": "execute_result"
        }
      ],
      "source": [
        "# 各群の平均の配列\n",
        "# 3つの数字が30個ずつ並んだリストを作成し、ndarrayに変換\n",
        "mu_n_list = [me_Feed_A]*data1.query('Feed == \"A\"').shape[0] + \\\n",
        "\t\t\t[me_Feed_B]*data1.query('Feed == \"B\"').shape[0] + \\\n",
        "\t\t\t[me_Feed_C]*data1.query('Feed == \"C\"').shape[0]\n",
        "mu_n = np.array(mu_n_list)\n",
        "\n",
        "# 効果（各群平均 のデータ全体の平均からのずれ）\n",
        "effect = mu_n - mu_all\n",
        "\n",
        "# 効果の平方和（群間平方和）\n",
        "squares_feed = np.sum(effect**2)\n",
        "squares_feed"
      ]
    },
    {
      "cell_type": "code",
      "execution_count": 155,
      "metadata": {
        "colab": {
          "base_uri": "https://localhost:8080/"
        },
        "id": "dD70D4YaseN5",
        "outputId": "9b6b1afe-de59-40f2-b99c-a00ddfe674bd"
      },
      "outputs": [
        {
          "data": {
            "text/plain": [
              "np.float64(669.8829113666667)"
            ]
          },
          "execution_count": 155,
          "metadata": {},
          "output_type": "execute_result"
        }
      ],
      "source": [
        "# 誤差（その他のずれ）\n",
        "resid = data1['Body_Length'] - mu_n\n",
        "\n",
        "# 誤差の平方和（群内平方和）\n",
        "squares_resid = np.sum(resid**2)\n",
        "squares_resid"
      ]
    },
    {
      "cell_type": "code",
      "execution_count": 156,
      "metadata": {
        "id": "VM1oMY6lsrbV"
      },
      "outputs": [],
      "source": [
        "# 群間変動（効果）の自由度 = 3(飼料の数) - 1\n",
        "df_feed = 2\n",
        "\n",
        "# 群内変動（誤差）の自由度 = 飼料Aの自由度 + 飼料Bの自由度 + 飼料Cの自由度\n",
        "#                      = (30 - 1) + (30 - 1) + (30 - 1)\n",
        "df_resid = 87"
      ]
    },
    {
      "cell_type": "code",
      "execution_count": 157,
      "metadata": {
        "colab": {
          "base_uri": "https://localhost:8080/"
        },
        "id": "aOtqkFjXvLnk",
        "outputId": "f8bb66cc-d2bb-4874-b3d7-26aa9a610888"
      },
      "outputs": [
        {
          "data": {
            "text/plain": [
              "np.float64(814.856878344445)"
            ]
          },
          "execution_count": 157,
          "metadata": {},
          "output_type": "execute_result"
        }
      ],
      "source": [
        "# 効果の分散\n",
        "variance_feed = squares_feed/df_feed\n",
        "variance_feed"
      ]
    },
    {
      "cell_type": "code",
      "execution_count": 158,
      "metadata": {
        "colab": {
          "base_uri": "https://localhost:8080/"
        },
        "id": "d9SzlYT9v_fP",
        "outputId": "268b3918-f2ba-4443-f4cf-ac3ee66e2ef5"
      },
      "outputs": [
        {
          "data": {
            "text/plain": [
              "np.float64(7.699803578927203)"
            ]
          },
          "execution_count": 158,
          "metadata": {},
          "output_type": "execute_result"
        }
      ],
      "source": [
        "# 誤差の分散\n",
        "variance_resid = squares_resid/df_resid\n",
        "variance_resid"
      ]
    },
    {
      "cell_type": "code",
      "execution_count": 159,
      "metadata": {
        "colab": {
          "base_uri": "https://localhost:8080/"
        },
        "id": "fc7PromVwU9h",
        "outputId": "a15edd9c-1fbd-4e33-bc72-a0aa914af115"
      },
      "outputs": [
        {
          "data": {
            "text/plain": [
              "np.float64(105.82826821382075)"
            ]
          },
          "execution_count": 159,
          "metadata": {},
          "output_type": "execute_result"
        }
      ],
      "source": [
        "# F比を計算\n",
        "f_ratio = variance_feed/variance_resid\n",
        "f_ratio"
      ]
    },
    {
      "cell_type": "code",
      "execution_count": 160,
      "metadata": {
        "colab": {
          "base_uri": "https://localhost:8080/"
        },
        "id": "9dfiBfDCw2-p",
        "outputId": "aeb6030c-d54f-4037-d9a3-065cabfa544e"
      },
      "outputs": [
        {
          "data": {
            "text/plain": [
              "np.float64(1.1102230246251565e-16)"
            ]
          },
          "execution_count": 160,
          "metadata": {},
          "output_type": "execute_result"
        }
      ],
      "source": [
        "# p値を計算\n",
        "1-sp.stats.f.cdf(x=f_ratio, dfn=df_feed, dfd=df_resid)"
      ]
    },
    {
      "cell_type": "code",
      "execution_count": 161,
      "metadata": {
        "colab": {
          "base_uri": "https://localhost:8080/",
          "height": 112
        },
        "id": "REdLrs3FxkC9",
        "outputId": "f2b231c4-f91c-4954-d6ca-02835271adc7"
      },
      "outputs": [
        {
          "data": {
            "text/html": [
              "<div>\n",
              "<style scoped>\n",
              "    .dataframe tbody tr th:only-of-type {\n",
              "        vertical-align: middle;\n",
              "    }\n",
              "\n",
              "    .dataframe tbody tr th {\n",
              "        vertical-align: top;\n",
              "    }\n",
              "\n",
              "    .dataframe thead th {\n",
              "        text-align: right;\n",
              "    }\n",
              "</style>\n",
              "<table border=\"1\" class=\"dataframe\">\n",
              "  <thead>\n",
              "    <tr style=\"text-align: right;\">\n",
              "      <th></th>\n",
              "      <th>sum_sq</th>\n",
              "      <th>df</th>\n",
              "      <th>F</th>\n",
              "      <th>PR(&gt;F)</th>\n",
              "    </tr>\n",
              "  </thead>\n",
              "  <tbody>\n",
              "    <tr>\n",
              "      <th>Feed</th>\n",
              "      <td>1629.713757</td>\n",
              "      <td>2.0</td>\n",
              "      <td>105.828268</td>\n",
              "      <td>5.001548e-24</td>\n",
              "    </tr>\n",
              "    <tr>\n",
              "      <th>Residual</th>\n",
              "      <td>669.882911</td>\n",
              "      <td>87.0</td>\n",
              "      <td>NaN</td>\n",
              "      <td>NaN</td>\n",
              "    </tr>\n",
              "  </tbody>\n",
              "</table>\n",
              "</div>"
            ],
            "text/plain": [
              "               sum_sq    df           F        PR(>F)\n",
              "Feed      1629.713757   2.0  105.828268  5.001548e-24\n",
              "Residual   669.882911  87.0         NaN           NaN"
            ]
          },
          "execution_count": 161,
          "metadata": {},
          "output_type": "execute_result"
        }
      ],
      "source": [
        "# statsmodelsで一元分散分析を実施\n",
        "anova_model_1 = smf.ols('Body_Length ~ Feed', data=data1).fit()\n",
        "sm.stats.anova_lm(anova_model_1, typ=2)"
      ]
    },
    {
      "cell_type": "code",
      "execution_count": 162,
      "metadata": {
        "colab": {
          "base_uri": "https://localhost:8080/",
          "height": 112
        },
        "id": "BeqTrV0zzKt8",
        "outputId": "d69314e5-4110-418a-c299-82e761f2c426"
      },
      "outputs": [
        {
          "data": {
            "text/html": [
              "<div>\n",
              "<style scoped>\n",
              "    .dataframe tbody tr th:only-of-type {\n",
              "        vertical-align: middle;\n",
              "    }\n",
              "\n",
              "    .dataframe tbody tr th {\n",
              "        vertical-align: top;\n",
              "    }\n",
              "\n",
              "    .dataframe thead th {\n",
              "        text-align: right;\n",
              "    }\n",
              "</style>\n",
              "<table border=\"1\" class=\"dataframe\">\n",
              "  <thead>\n",
              "    <tr style=\"text-align: right;\">\n",
              "      <th></th>\n",
              "      <th>sum_sq</th>\n",
              "      <th>df</th>\n",
              "      <th>F</th>\n",
              "      <th>PR(&gt;F)</th>\n",
              "    </tr>\n",
              "  </thead>\n",
              "  <tbody>\n",
              "    <tr>\n",
              "      <th>Feed</th>\n",
              "      <td>28.056643</td>\n",
              "      <td>2.0</td>\n",
              "      <td>1.819162</td>\n",
              "      <td>0.168276</td>\n",
              "    </tr>\n",
              "    <tr>\n",
              "      <th>Residual</th>\n",
              "      <td>670.893326</td>\n",
              "      <td>87.0</td>\n",
              "      <td>NaN</td>\n",
              "      <td>NaN</td>\n",
              "    </tr>\n",
              "  </tbody>\n",
              "</table>\n",
              "</div>"
            ],
            "text/plain": [
              "              sum_sq    df         F    PR(>F)\n",
              "Feed       28.056643   2.0  1.819162  0.168276\n",
              "Residual  670.893326  87.0       NaN       NaN"
            ]
          },
          "execution_count": 162,
          "metadata": {},
          "output_type": "execute_result"
        }
      ],
      "source": [
        "# 体高について一元分散分析を実施\n",
        "anova_model_2 = smf.ols('Body_Height ~ Feed', data=data1).fit()\n",
        "sm.stats.anova_lm(anova_model_2, typ=2)"
      ]
    },
    {
      "cell_type": "markdown",
      "metadata": {
        "id": "dGvHsePa0Dh7"
      },
      "source": [
        "### 二元分散分析"
      ]
    },
    {
      "cell_type": "code",
      "execution_count": 163,
      "metadata": {
        "id": "i7WKVOpU0qEY"
      },
      "outputs": [],
      "source": [
        "# データの読み込み\n",
        "data2 = pd.read_csv('anova-2.csv')"
      ]
    },
    {
      "cell_type": "code",
      "execution_count": 164,
      "metadata": {
        "colab": {
          "base_uri": "https://localhost:8080/",
          "height": 206
        },
        "id": "kq54_ZIt0rNh",
        "outputId": "506a3c50-a565-4c76-afaf-8c3a1659b91b"
      },
      "outputs": [
        {
          "data": {
            "text/html": [
              "<div>\n",
              "<style scoped>\n",
              "    .dataframe tbody tr th:only-of-type {\n",
              "        vertical-align: middle;\n",
              "    }\n",
              "\n",
              "    .dataframe tbody tr th {\n",
              "        vertical-align: top;\n",
              "    }\n",
              "\n",
              "    .dataframe thead th {\n",
              "        text-align: right;\n",
              "    }\n",
              "</style>\n",
              "<table border=\"1\" class=\"dataframe\">\n",
              "  <thead>\n",
              "    <tr style=\"text-align: right;\">\n",
              "      <th></th>\n",
              "      <th>Body_Length</th>\n",
              "      <th>Feed</th>\n",
              "      <th>Area</th>\n",
              "    </tr>\n",
              "  </thead>\n",
              "  <tbody>\n",
              "    <tr>\n",
              "      <th>0</th>\n",
              "      <td>34.873</td>\n",
              "      <td>A</td>\n",
              "      <td>X</td>\n",
              "    </tr>\n",
              "    <tr>\n",
              "      <th>1</th>\n",
              "      <td>28.165</td>\n",
              "      <td>A</td>\n",
              "      <td>X</td>\n",
              "    </tr>\n",
              "    <tr>\n",
              "      <th>2</th>\n",
              "      <td>28.415</td>\n",
              "      <td>A</td>\n",
              "      <td>X</td>\n",
              "    </tr>\n",
              "    <tr>\n",
              "      <th>3</th>\n",
              "      <td>26.781</td>\n",
              "      <td>A</td>\n",
              "      <td>X</td>\n",
              "    </tr>\n",
              "    <tr>\n",
              "      <th>4</th>\n",
              "      <td>32.596</td>\n",
              "      <td>A</td>\n",
              "      <td>X</td>\n",
              "    </tr>\n",
              "  </tbody>\n",
              "</table>\n",
              "</div>"
            ],
            "text/plain": [
              "   Body_Length Feed Area\n",
              "0       34.873    A    X\n",
              "1       28.165    A    X\n",
              "2       28.415    A    X\n",
              "3       26.781    A    X\n",
              "4       32.596    A    X"
            ]
          },
          "execution_count": 164,
          "metadata": {},
          "output_type": "execute_result"
        }
      ],
      "source": [
        "# データの確認\n",
        "data2.head()"
      ]
    },
    {
      "cell_type": "code",
      "execution_count": 165,
      "metadata": {
        "colab": {
          "base_uri": "https://localhost:8080/"
        },
        "id": "7_aEziPx1T8z",
        "outputId": "ca61b33a-dbfb-4190-980e-1d911f384b09"
      },
      "outputs": [
        {
          "data": {
            "text/plain": [
              "np.float64(35.382866666666665)"
            ]
          },
          "execution_count": 165,
          "metadata": {},
          "output_type": "execute_result"
        }
      ],
      "source": [
        "# データ全体の体長の平均\n",
        "me_all2 = np.mean(data2['Body_Length'])\n",
        "me_all2"
      ]
    },
    {
      "cell_type": "code",
      "execution_count": 166,
      "metadata": {
        "colab": {
          "base_uri": "https://localhost:8080/"
        },
        "id": "T1ws8PXb1lZE",
        "outputId": "f0142658-5e08-405a-8dc9-9436d1e6c1a5"
      },
      "outputs": [
        {
          "name": "stdout",
          "output_type": "stream",
          "text": [
            "Feed A: 30.373166666666666\n",
            "Feed B: 40.664166666666674\n",
            "Feed C: 35.111266666666666\n"
          ]
        }
      ],
      "source": [
        "# 飼料ごとの体長の平均\n",
        "me_Feed_A = np.mean(data2.query('Feed==\"A\"')['Body_Length'])\n",
        "me_Feed_B = np.mean(data2.query('Feed==\"B\"')['Body_Length'])\n",
        "me_Feed_C = np.mean(data2.query('Feed==\"C\"')['Body_Length'])\n",
        "print('Feed A:', me_Feed_A)\n",
        "print('Feed B:', me_Feed_B)\n",
        "print('Feed C:', me_Feed_C)"
      ]
    },
    {
      "cell_type": "code",
      "execution_count": 167,
      "metadata": {
        "colab": {
          "base_uri": "https://localhost:8080/"
        },
        "id": "lt5hFmtu1uS6",
        "outputId": "5f7cc272-7af3-4666-f977-3f3e5835ae01"
      },
      "outputs": [
        {
          "name": "stdout",
          "output_type": "stream",
          "text": [
            "Area X: 35.180277777777775\n",
            "Area Y: 35.585455555555555\n"
          ]
        }
      ],
      "source": [
        "# 養殖池ごとの体長の平均\n",
        "me_Area_X = np.mean(data2.query('Area==\"X\"')['Body_Length'])\n",
        "me_Area_Y = np.mean(data2.query('Area==\"Y\"')['Body_Length'])\n",
        "print('Area X:', me_Area_X)\n",
        "print('Area Y:', me_Area_Y)"
      ]
    },
    {
      "cell_type": "code",
      "execution_count": 168,
      "metadata": {
        "colab": {
          "base_uri": "https://localhost:8080/"
        },
        "id": "RBM40dFN1_J6",
        "outputId": "23b64518-74e5-4ee6-f8b2-e9ef20a0c4f3"
      },
      "outputs": [
        {
          "data": {
            "text/plain": [
              "np.float64(4304.4535108)"
            ]
          },
          "execution_count": 168,
          "metadata": {},
          "output_type": "execute_result"
        }
      ],
      "source": [
        "# 全体の平方和\n",
        "squares_all2 = np.sum((data2['Body_Length']-me_all2)**2)\n",
        "squares_all2"
      ]
    },
    {
      "cell_type": "code",
      "execution_count": 169,
      "metadata": {
        "colab": {
          "base_uri": "https://localhost:8080/"
        },
        "id": "2B83Ae_SEgyN",
        "outputId": "434fcadd-6e4d-40e7-d9db-50cb3b0cbce5"
      },
      "outputs": [
        {
          "data": {
            "text/plain": [
              "np.float64(3183.7794204000047)"
            ]
          },
          "execution_count": 169,
          "metadata": {},
          "output_type": "execute_result"
        }
      ],
      "source": [
        "# 飼料の平方和\n",
        "feed_means_list = [me_Feed_A]*data2.query('Feed == \"A\"').shape[0] + \\\n",
        "                  [me_Feed_B]*data2.query('Feed == \"B\"').shape[0] + \\\n",
        "                  [me_Feed_C]*data2.query('Feed == \"C\"').shape[0]\n",
        "feed_means_expanded = np.array(feed_means_list)\n",
        "squares_feed = np.sum((feed_means_expanded - me_all2)**2)\n",
        "squares_feed"
      ]
    },
    {
      "cell_type": "code",
      "execution_count": 170,
      "metadata": {
        "colab": {
          "base_uri": "https://localhost:8080/"
        },
        "id": "B79ueqE7EnXB",
        "outputId": "f7774990-d3cb-4e51-af4c-4ff65ce9fb5f"
      },
      "outputs": [
        {
          "data": {
            "text/plain": [
              "np.float64(7.387606422222308)"
            ]
          },
          "execution_count": 170,
          "metadata": {},
          "output_type": "execute_result"
        }
      ],
      "source": [
        "# 養殖池の平方和\n",
        "area_means_list = [me_Area_X]*data2.query('Area == \"X\"').shape[0] + \\\n",
        "                  [me_Area_Y]*data2.query('Area == \"Y\"').shape[0]\n",
        "area_means_expanded = np.array(area_means_list)\n",
        "squares_area = np.sum((area_means_expanded-me_all2)**2)\n",
        "squares_area"
      ]
    },
    {
      "cell_type": "code",
      "execution_count": 171,
      "metadata": {
        "colab": {
          "base_uri": "https://localhost:8080/"
        },
        "id": "XP17gruqE_H_",
        "outputId": "108e2415-581f-4e6f-fbc5-5271b16ce283"
      },
      "outputs": [
        {
          "data": {
            "text/plain": [
              "np.float64(1113.286483977773)"
            ]
          },
          "execution_count": 171,
          "metadata": {},
          "output_type": "execute_result"
        }
      ],
      "source": [
        "# 誤差の平方和\n",
        "squares_resid2 = squares_all2 - squares_feed - squares_area\n",
        "squares_resid2"
      ]
    },
    {
      "cell_type": "code",
      "execution_count": 172,
      "metadata": {
        "id": "dQWkDIciH2TX"
      },
      "outputs": [],
      "source": [
        "df_feed = 2     # 飼料の自由度\n",
        "df_area = 1     # 養殖池の自由度\n",
        "df_resid = 176  # 誤差の自由度"
      ]
    },
    {
      "cell_type": "code",
      "execution_count": 173,
      "metadata": {
        "colab": {
          "base_uri": "https://localhost:8080/"
        },
        "id": "EIRt18VnH3Oc",
        "outputId": "b44a19ee-6bfc-4d5a-9a10-e883a49993ca"
      },
      "outputs": [
        {
          "data": {
            "text/plain": [
              "np.float64(1591.8897102000024)"
            ]
          },
          "execution_count": 173,
          "metadata": {},
          "output_type": "execute_result"
        }
      ],
      "source": [
        "# 飼料の分散\n",
        "variance_feed = squares_feed/df_feed\n",
        "variance_feed"
      ]
    },
    {
      "cell_type": "code",
      "execution_count": 174,
      "metadata": {
        "colab": {
          "base_uri": "https://localhost:8080/"
        },
        "id": "g4sPCjG8H_1N",
        "outputId": "e919cf69-969f-4949-b2c8-9c22ec79085d"
      },
      "outputs": [
        {
          "data": {
            "text/plain": [
              "np.float64(7.387606422222308)"
            ]
          },
          "execution_count": 174,
          "metadata": {},
          "output_type": "execute_result"
        }
      ],
      "source": [
        "# 養殖池の分散\n",
        "variance_area = squares_area/df_area\n",
        "variance_area"
      ]
    },
    {
      "cell_type": "code",
      "execution_count": 175,
      "metadata": {
        "colab": {
          "base_uri": "https://localhost:8080/"
        },
        "id": "5wu91tCBIF6w",
        "outputId": "9d8551a9-1c1f-4910-c0c7-dc8672be3712"
      },
      "outputs": [
        {
          "data": {
            "text/plain": [
              "np.float64(6.3254913862373465)"
            ]
          },
          "execution_count": 175,
          "metadata": {},
          "output_type": "execute_result"
        }
      ],
      "source": [
        "# 誤差の分散\n",
        "variance_resid2 = squares_resid2/df_resid\n",
        "variance_resid2"
      ]
    },
    {
      "cell_type": "code",
      "execution_count": 176,
      "metadata": {
        "colab": {
          "base_uri": "https://localhost:8080/"
        },
        "id": "OZJ7wmq9IjI1",
        "outputId": "e25cbed2-b954-49b0-f2fe-5c8a1d339e51"
      },
      "outputs": [
        {
          "data": {
            "text/plain": [
              "np.float64(251.66261607178023)"
            ]
          },
          "execution_count": 176,
          "metadata": {},
          "output_type": "execute_result"
        }
      ],
      "source": [
        "# 飼料のF比\n",
        "f_ratio_feed = variance_feed/variance_resid2\n",
        "f_ratio_feed"
      ]
    },
    {
      "cell_type": "code",
      "execution_count": 177,
      "metadata": {
        "colab": {
          "base_uri": "https://localhost:8080/"
        },
        "id": "89m9ysXaIo3w",
        "outputId": "828dfcb7-f39a-4676-e147-499ccf410856"
      },
      "outputs": [
        {
          "data": {
            "text/plain": [
              "np.float64(1.1679102809776727)"
            ]
          },
          "execution_count": 177,
          "metadata": {},
          "output_type": "execute_result"
        }
      ],
      "source": [
        "# 養殖池のF比\n",
        "f_ratio_area = variance_area/variance_resid2\n",
        "f_ratio_area"
      ]
    },
    {
      "cell_type": "code",
      "execution_count": 178,
      "metadata": {
        "colab": {
          "base_uri": "https://localhost:8080/"
        },
        "id": "tA5eJmDpJQvL",
        "outputId": "4c6d26f2-5412-4ff1-c895-8309ff5612b2"
      },
      "outputs": [
        {
          "data": {
            "text/plain": [
              "np.float64(1.1102230246251565e-16)"
            ]
          },
          "execution_count": 178,
          "metadata": {},
          "output_type": "execute_result"
        }
      ],
      "source": [
        "# 飼料のp値\n",
        "1-sp.stats.f.cdf(x=f_ratio_feed, dfn=df_feed, dfd=df_resid)"
      ]
    },
    {
      "cell_type": "code",
      "execution_count": 179,
      "metadata": {
        "colab": {
          "base_uri": "https://localhost:8080/"
        },
        "id": "dugKt3fHJaJ8",
        "outputId": "7337d6ba-2d1e-4c08-ff26-35b5648460c3"
      },
      "outputs": [
        {
          "data": {
            "text/plain": [
              "np.float64(0.2813096649258633)"
            ]
          },
          "execution_count": 179,
          "metadata": {},
          "output_type": "execute_result"
        }
      ],
      "source": [
        "# 養殖池のp値\n",
        "1-sp.stats.f.cdf(x=f_ratio_area, dfn=df_area, dfd=df_resid)"
      ]
    },
    {
      "cell_type": "code",
      "execution_count": 180,
      "metadata": {
        "colab": {
          "base_uri": "https://localhost:8080/",
          "height": 143
        },
        "id": "1vdHetdqKcwk",
        "outputId": "da823b32-d620-4cde-ea8b-6e4c6b2d7929"
      },
      "outputs": [
        {
          "data": {
            "text/html": [
              "<div>\n",
              "<style scoped>\n",
              "    .dataframe tbody tr th:only-of-type {\n",
              "        vertical-align: middle;\n",
              "    }\n",
              "\n",
              "    .dataframe tbody tr th {\n",
              "        vertical-align: top;\n",
              "    }\n",
              "\n",
              "    .dataframe thead th {\n",
              "        text-align: right;\n",
              "    }\n",
              "</style>\n",
              "<table border=\"1\" class=\"dataframe\">\n",
              "  <thead>\n",
              "    <tr style=\"text-align: right;\">\n",
              "      <th></th>\n",
              "      <th>sum_sq</th>\n",
              "      <th>df</th>\n",
              "      <th>F</th>\n",
              "      <th>PR(&gt;F)</th>\n",
              "    </tr>\n",
              "  </thead>\n",
              "  <tbody>\n",
              "    <tr>\n",
              "      <th>Feed</th>\n",
              "      <td>3183.779420</td>\n",
              "      <td>2.0</td>\n",
              "      <td>251.662616</td>\n",
              "      <td>2.411422e-52</td>\n",
              "    </tr>\n",
              "    <tr>\n",
              "      <th>Area</th>\n",
              "      <td>7.387606</td>\n",
              "      <td>1.0</td>\n",
              "      <td>1.167910</td>\n",
              "      <td>2.813097e-01</td>\n",
              "    </tr>\n",
              "    <tr>\n",
              "      <th>Residual</th>\n",
              "      <td>1113.286484</td>\n",
              "      <td>176.0</td>\n",
              "      <td>NaN</td>\n",
              "      <td>NaN</td>\n",
              "    </tr>\n",
              "  </tbody>\n",
              "</table>\n",
              "</div>"
            ],
            "text/plain": [
              "               sum_sq     df           F        PR(>F)\n",
              "Feed      3183.779420    2.0  251.662616  2.411422e-52\n",
              "Area         7.387606    1.0    1.167910  2.813097e-01\n",
              "Residual  1113.286484  176.0         NaN           NaN"
            ]
          },
          "execution_count": 180,
          "metadata": {},
          "output_type": "execute_result"
        }
      ],
      "source": [
        "# statsmodelsで二元分散分析を実施\n",
        "anova_model_3 = smf.ols('Body_Length ~ Feed + Area', data=data2).fit()\n",
        "sm.stats.anova_lm(anova_model_3, typ=2)"
      ]
    },
    {
      "cell_type": "code",
      "execution_count": null,
      "metadata": {},
      "outputs": [],
      "source": []
    }
  ],
  "metadata": {
    "colab": {
      "provenance": []
    },
    "kernelspec": {
      "display_name": ".venv",
      "language": "python",
      "name": "python3"
    },
    "language_info": {
      "codemirror_mode": {
        "name": "ipython",
        "version": 3
      },
      "file_extension": ".py",
      "mimetype": "text/x-python",
      "name": "python",
      "nbconvert_exporter": "python",
      "pygments_lexer": "ipython3",
      "version": "3.12.10"
    }
  },
  "nbformat": 4,
  "nbformat_minor": 0
}
