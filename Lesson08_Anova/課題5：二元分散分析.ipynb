{
 "cells": [
  {
   "cell_type": "markdown",
   "id": "5d1c47f6",
   "metadata": {},
   "source": [
    "【温度】\n",
    "　帰無仮説：温度が製造量に変化を与えない\n",
    "　対立仮設：温度が製造量に変化を与える\n",
    "\n",
    "【反応時間】\n",
    "　帰無仮説：反応時間が製造量に変化を与えない\n",
    "　対立仮設：反応時間が製造量に変化を与える"
   ]
  },
  {
   "cell_type": "code",
   "execution_count": 1,
   "id": "fae40eb1",
   "metadata": {},
   "outputs": [],
   "source": [
    "import pandas as pd\n",
    "import matplotlib.pyplot as plt\n",
    "import numpy as np\n",
    "import seaborn as sns\n",
    "import scipy as sp\n",
    "import statsmodels.formula.api as smf\n",
    "import statsmodels.api as sm"
   ]
  },
  {
   "cell_type": "code",
   "execution_count": 2,
   "id": "d7b7819d",
   "metadata": {},
   "outputs": [],
   "source": [
    "# Pandasでデータを読み込み、その内容を何件か確認\n",
    "data1 = pd.read_csv('reagents_data.csv')"
   ]
  },
  {
   "cell_type": "code",
   "execution_count": 3,
   "id": "ab0fd1fb",
   "metadata": {},
   "outputs": [
    {
     "data": {
      "text/plain": [
       "(40, 3)"
      ]
     },
     "execution_count": 3,
     "metadata": {},
     "output_type": "execute_result"
    }
   ],
   "source": [
    "data1.shape"
   ]
  },
  {
   "cell_type": "code",
   "execution_count": 4,
   "id": "9d86391f",
   "metadata": {},
   "outputs": [
    {
     "data": {
      "text/html": [
       "<div>\n",
       "<style scoped>\n",
       "    .dataframe tbody tr th:only-of-type {\n",
       "        vertical-align: middle;\n",
       "    }\n",
       "\n",
       "    .dataframe tbody tr th {\n",
       "        vertical-align: top;\n",
       "    }\n",
       "\n",
       "    .dataframe thead th {\n",
       "        text-align: right;\n",
       "    }\n",
       "</style>\n",
       "<table border=\"1\" class=\"dataframe\">\n",
       "  <thead>\n",
       "    <tr style=\"text-align: right;\">\n",
       "      <th></th>\n",
       "      <th>Temp</th>\n",
       "      <th>Time</th>\n",
       "      <th>Volume</th>\n",
       "    </tr>\n",
       "  </thead>\n",
       "  <tbody>\n",
       "    <tr>\n",
       "      <th>0</th>\n",
       "      <td>100</td>\n",
       "      <td>10</td>\n",
       "      <td>21.624345</td>\n",
       "    </tr>\n",
       "    <tr>\n",
       "      <th>1</th>\n",
       "      <td>100</td>\n",
       "      <td>10</td>\n",
       "      <td>19.388244</td>\n",
       "    </tr>\n",
       "    <tr>\n",
       "      <th>2</th>\n",
       "      <td>100</td>\n",
       "      <td>10</td>\n",
       "      <td>19.471828</td>\n",
       "    </tr>\n",
       "    <tr>\n",
       "      <th>3</th>\n",
       "      <td>100</td>\n",
       "      <td>10</td>\n",
       "      <td>18.927031</td>\n",
       "    </tr>\n",
       "    <tr>\n",
       "      <th>4</th>\n",
       "      <td>100</td>\n",
       "      <td>10</td>\n",
       "      <td>20.865408</td>\n",
       "    </tr>\n",
       "  </tbody>\n",
       "</table>\n",
       "</div>"
      ],
      "text/plain": [
       "   Temp  Time     Volume\n",
       "0   100    10  21.624345\n",
       "1   100    10  19.388244\n",
       "2   100    10  19.471828\n",
       "3   100    10  18.927031\n",
       "4   100    10  20.865408"
      ]
     },
     "execution_count": 4,
     "metadata": {},
     "output_type": "execute_result"
    }
   ],
   "source": [
    "data1.head()"
   ]
  },
  {
   "cell_type": "code",
   "execution_count": 5,
   "id": "33eab091",
   "metadata": {},
   "outputs": [
    {
     "data": {
      "text/plain": [
       "<Axes: xlabel='Time', ylabel='Volume'>"
      ]
     },
     "execution_count": 5,
     "metadata": {},
     "output_type": "execute_result"
    },
    {
     "data": {
      "image/png": "[encoded data removed]",
      "text/plain": [
       "<Figure size 1000x500 with 2 Axes>"
      ]
     },
     "metadata": {},
     "output_type": "display_data"
    }
   ],
   "source": [
    "# 横軸に温度・反応時間、縦軸に製造量をとった箱ひげ図\n",
    "f, axes = plt.subplots(1, 2, figsize=(10,5))\n",
    "\n",
    "sns.boxplot(x='Temp', y='Volume', data=data1, ax=axes[0])\n",
    "sns.boxplot(x='Time', y='Volume', data=data1, ax=axes[1])"
   ]
  },
  {
   "cell_type": "code",
   "execution_count": 6,
   "id": "a741e301",
   "metadata": {},
   "outputs": [
    {
     "data": {
      "text/plain": [
       "np.float64(21.064619498696484)"
      ]
     },
     "execution_count": 6,
     "metadata": {},
     "output_type": "execute_result"
    }
   ],
   "source": [
    "# 全データの製造量の平均値を計算してください\n",
    "mu_all = np.mean(data1['Volume'])\n",
    "mu_all"
   ]
  },
  {
   "cell_type": "code",
   "execution_count": 7,
   "id": "d522acb6",
   "metadata": {},
   "outputs": [
    {
     "name": "stdout",
     "output_type": "stream",
     "text": [
      "20.81095130951942 21.318287687873553\n",
      "20.32047783804376 21.80876115934921\n"
     ]
    }
   ],
   "source": [
    "# 温度条件：製造量の平均値\n",
    "me_Temp_100 = np.mean(data1.query('Temp == 100')['Volume'])\n",
    "me_Temp_200 = np.mean(data1.query('Temp == 200')['Volume'])\n",
    "print(me_Temp_100, me_Temp_200)\n",
    "\n",
    "# 反応時間：製造量の平均値\n",
    "me_Time_10 = np.mean(data1.query('Time == 10')['Volume'])\n",
    "me_Time_30 = np.mean(data1.query('Time == 30')['Volume'])\n",
    "print(me_Time_10, me_Time_30)"
   ]
  },
  {
   "cell_type": "code",
   "execution_count": 8,
   "id": "34cd663d",
   "metadata": {},
   "outputs": [
    {
     "data": {
      "text/plain": [
       "np.float64(90.77291728168147)"
      ]
     },
     "execution_count": 8,
     "metadata": {},
     "output_type": "execute_result"
    }
   ],
   "source": [
    "# 全体の平方和\n",
    "squares_all = np.sum((data1['Volume'] - mu_all) ** 2)\n",
    "squares_all"
   ]
  },
  {
   "cell_type": "code",
   "execution_count": 29,
   "id": "10ac5e76",
   "metadata": {},
   "outputs": [
    {
     "data": {
      "text/plain": [
       "np.float64(2.5739020080148745)"
      ]
     },
     "execution_count": 29,
     "metadata": {},
     "output_type": "execute_result"
    }
   ],
   "source": [
    "# 温度の平方和\n",
    "mu_n_Temp = [me_Temp_100] * data1.query('Temp == 100').shape[0] + [me_Temp_200] * data1.query('Temp == 200').shape[0] \n",
    "\n",
    "temp_means_expanded = np.array(mu_n_Temp)\n",
    "squares_Temp = np.sum((temp_means_expanded - mu_all)**2)\n",
    "squares_Temp\n"
   ]
  },
  {
   "cell_type": "code",
   "execution_count": 30,
   "id": "59c55709",
   "metadata": {},
   "outputs": [
    {
     "data": {
      "text/plain": [
       "1"
      ]
     },
     "execution_count": 30,
     "metadata": {},
     "output_type": "execute_result"
    }
   ],
   "source": [
    "# 温度の自由度\n",
    "df_Temp = data1['Temp'].nunique() - 1\n",
    "df_Temp"
   ]
  },
  {
   "cell_type": "code",
   "execution_count": 31,
   "id": "1b512067",
   "metadata": {},
   "outputs": [
    {
     "data": {
      "text/plain": [
       "np.float64(2.5739020080148745)"
      ]
     },
     "execution_count": 31,
     "metadata": {},
     "output_type": "execute_result"
    }
   ],
   "source": [
    "# 温度の分散\n",
    "variance_Temp = squares_Temp / df_Temp\n",
    "variance_Temp"
   ]
  },
  {
   "cell_type": "code",
   "execution_count": null,
   "id": "23bfed78",
   "metadata": {},
   "outputs": [
    {
     "data": {
      "text/plain": [
       "np.float64(22.14987244475978)"
      ]
     },
     "execution_count": 13,
     "metadata": {},
     "output_type": "execute_result"
    }
   ],
   "source": [
    "# 反応時間の平方和\n",
    "mu_n_Time = [me_Time_10] * data1.query('Time == 10').shape[0] + [me_Time_30] * data1.query('Time == 30').shape[0] \n",
    "\n",
    "temp_means_expanded = np.array(mu_n_Time)\n",
    "squares_Time = np.sum((temp_means_expanded - mu_all)**2)\n",
    "squares_Time"
   ]
  },
  {
   "cell_type": "code",
   "execution_count": 17,
   "id": "c9831d94",
   "metadata": {},
   "outputs": [
    {
     "data": {
      "text/plain": [
       "1"
      ]
     },
     "execution_count": 17,
     "metadata": {},
     "output_type": "execute_result"
    }
   ],
   "source": [
    "# 反応時間の自由度\n",
    "df_Time = data1['Time'].nunique() - 1\n",
    "df_Time"
   ]
  },
  {
   "cell_type": "code",
   "execution_count": 35,
   "id": "0645960c",
   "metadata": {},
   "outputs": [
    {
     "data": {
      "text/plain": [
       "np.float64(22.14987244475978)"
      ]
     },
     "execution_count": 35,
     "metadata": {},
     "output_type": "execute_result"
    }
   ],
   "source": [
    "# 反応時間の分散\n",
    "variance_Time = squares_Time / df_Time\n",
    "variance_Time"
   ]
  },
  {
   "cell_type": "code",
   "execution_count": 23,
   "id": "80c8d0a8",
   "metadata": {},
   "outputs": [
    {
     "data": {
      "text/plain": [
       "np.float64(66.04914282890682)"
      ]
     },
     "execution_count": 23,
     "metadata": {},
     "output_type": "execute_result"
    }
   ],
   "source": [
    "# 誤差の平方和\n",
    "squares_resid = squares_all - squares_Temp - squares_Time\n",
    "squares_resid"
   ]
  },
  {
   "cell_type": "code",
   "execution_count": 24,
   "id": "4bc8f09d",
   "metadata": {},
   "outputs": [
    {
     "data": {
      "text/plain": [
       "37"
      ]
     },
     "execution_count": 24,
     "metadata": {},
     "output_type": "execute_result"
    }
   ],
   "source": [
    "# 誤差の自由度\n",
    "df_resid = len(data1) - 1 - (df_Temp + df_Time)\n",
    "df_resid"
   ]
  },
  {
   "cell_type": "code",
   "execution_count": 32,
   "id": "68df63d8",
   "metadata": {},
   "outputs": [
    {
     "data": {
      "text/plain": [
       "np.float64(1.785111968348833)"
      ]
     },
     "execution_count": 32,
     "metadata": {},
     "output_type": "execute_result"
    }
   ],
   "source": [
    "# 誤差の分散\n",
    "variance_resid = squares_resid / df_resid\n",
    "variance_resid\n"
   ]
  },
  {
   "cell_type": "code",
   "execution_count": 33,
   "id": "6ea9f556",
   "metadata": {},
   "outputs": [
    {
     "data": {
      "text/plain": [
       "np.float64(1.4418714644525323)"
      ]
     },
     "execution_count": 33,
     "metadata": {},
     "output_type": "execute_result"
    }
   ],
   "source": [
    "# 温度のF比\n",
    "f_ratio_Temp = variance_Temp / variance_resid\n",
    "f_ratio_Temp"
   ]
  },
  {
   "cell_type": "code",
   "execution_count": 36,
   "id": "c169c748",
   "metadata": {},
   "outputs": [
    {
     "data": {
      "text/plain": [
       "np.float64(12.408113797616654)"
      ]
     },
     "execution_count": 36,
     "metadata": {},
     "output_type": "execute_result"
    }
   ],
   "source": [
    "# 反応時間のF比\n",
    "f_ratio_Time = variance_Time / variance_resid\n",
    "f_ratio_Time"
   ]
  },
  {
   "cell_type": "code",
   "execution_count": 37,
   "id": "af6b807e",
   "metadata": {},
   "outputs": [
    {
     "data": {
      "text/plain": [
       "np.float64(0.23746784737213267)"
      ]
     },
     "execution_count": 37,
     "metadata": {},
     "output_type": "execute_result"
    }
   ],
   "source": [
    "# 温度のp値\n",
    "1-sp.stats.f.cdf(x=f_ratio_Temp, dfn=df_Temp, dfd=df_resid)"
   ]
  },
  {
   "cell_type": "code",
   "execution_count": 38,
   "id": "534b3585",
   "metadata": {},
   "outputs": [
    {
     "data": {
      "text/plain": [
       "np.float64(0.0011555176940120093)"
      ]
     },
     "execution_count": 38,
     "metadata": {},
     "output_type": "execute_result"
    }
   ],
   "source": [
    "# 反応時間のp値\n",
    "1-sp.stats.f.cdf(x=f_ratio_Time, dfn=df_Time, dfd=df_resid)"
   ]
  },
  {
   "cell_type": "code",
   "execution_count": 10,
   "id": "384d16d3",
   "metadata": {},
   "outputs": [
    {
     "data": {
      "text/html": [
       "<div>\n",
       "<style scoped>\n",
       "    .dataframe tbody tr th:only-of-type {\n",
       "        vertical-align: middle;\n",
       "    }\n",
       "\n",
       "    .dataframe tbody tr th {\n",
       "        vertical-align: top;\n",
       "    }\n",
       "\n",
       "    .dataframe thead th {\n",
       "        text-align: right;\n",
       "    }\n",
       "</style>\n",
       "<table border=\"1\" class=\"dataframe\">\n",
       "  <thead>\n",
       "    <tr style=\"text-align: right;\">\n",
       "      <th></th>\n",
       "      <th>sum_sq</th>\n",
       "      <th>df</th>\n",
       "      <th>F</th>\n",
       "      <th>PR(&gt;F)</th>\n",
       "    </tr>\n",
       "  </thead>\n",
       "  <tbody>\n",
       "    <tr>\n",
       "      <th>Temp</th>\n",
       "      <td>2.573902</td>\n",
       "      <td>1.0</td>\n",
       "      <td>1.441871</td>\n",
       "      <td>0.237468</td>\n",
       "    </tr>\n",
       "    <tr>\n",
       "      <th>Time</th>\n",
       "      <td>22.149872</td>\n",
       "      <td>1.0</td>\n",
       "      <td>12.408114</td>\n",
       "      <td>0.001156</td>\n",
       "    </tr>\n",
       "    <tr>\n",
       "      <th>Residual</th>\n",
       "      <td>66.049143</td>\n",
       "      <td>37.0</td>\n",
       "      <td>NaN</td>\n",
       "      <td>NaN</td>\n",
       "    </tr>\n",
       "  </tbody>\n",
       "</table>\n",
       "</div>"
      ],
      "text/plain": [
       "             sum_sq    df          F    PR(>F)\n",
       "Temp       2.573902   1.0   1.441871  0.237468\n",
       "Time      22.149872   1.0  12.408114  0.001156\n",
       "Residual  66.049143  37.0        NaN       NaN"
      ]
     },
     "execution_count": 10,
     "metadata": {},
     "output_type": "execute_result"
    }
   ],
   "source": [
    "# statsmodelsで二元分散分析を実施\n",
    "anova_model_3 = smf.ols('Volume ~ Temp + Time', data=data1).fit()\n",
    "sm.stats.anova_lm(anova_model_3, typ=2)"
   ]
  },
  {
   "cell_type": "markdown",
   "id": "6fef5d0c",
   "metadata": {},
   "source": [
    "有意水準を5%とするので\n",
    "温度のp値：23.7468% 帰無仮説を棄却できない\n",
    "反応時間のp値：0.156% 帰無仮説を棄却できる\n",
    "\n"
   ]
  }
 ],
 "metadata": {
  "kernelspec": {
   "display_name": ".venv",
   "language": "python",
   "name": "python3"
  },
  "language_info": {
   "codemirror_mode": {
    "name": "ipython",
    "version": 3
   },
   "file_extension": ".py",
   "mimetype": "text/x-python",
   "name": "python",
   "nbconvert_exporter": "python",
   "pygments_lexer": "ipython3",
   "version": "3.12.9"
  }
 },
 "nbformat": 4,
 "nbformat_minor": 5
}
