{
 "cells": [
  {
   "cell_type": "markdown",
   "id": "615378a7",
   "metadata": {},
   "source": [
    "帰無仮説：製造ラインによって濃度の差がない\n",
    "対立仮設：最低１つは製造ラインによって濃度の差がある"
   ]
  },
  {
   "cell_type": "code",
   "execution_count": 56,
   "id": "53b3e485",
   "metadata": {},
   "outputs": [],
   "source": [
    "import pandas as pd\n",
    "import matplotlib.pyplot as plt\n",
    "import numpy as np\n",
    "import seaborn as sns\n",
    "import scipy as sp\n",
    "import statsmodels.formula.api as smf\n",
    "import statsmodels.api as sm"
   ]
  },
  {
   "cell_type": "code",
   "execution_count": null,
   "id": "66e2d55d",
   "metadata": {},
   "outputs": [],
   "source": [
    "# Pandasでデータを読み込み、その内容を何件か確認\n",
    "data1 = pd.read_csv('ethanol_data.csv')"
   ]
  },
  {
   "cell_type": "code",
   "execution_count": 5,
   "id": "7c5c8358",
   "metadata": {},
   "outputs": [
    {
     "data": {
      "text/plain": [
       "(50, 2)"
      ]
     },
     "execution_count": 5,
     "metadata": {},
     "output_type": "execute_result"
    }
   ],
   "source": [
    "data1.shape"
   ]
  },
  {
   "cell_type": "code",
   "execution_count": 6,
   "id": "d9d6fe8a",
   "metadata": {},
   "outputs": [
    {
     "data": {
      "text/html": [
       "<div>\n",
       "<style scoped>\n",
       "    .dataframe tbody tr th:only-of-type {\n",
       "        vertical-align: middle;\n",
       "    }\n",
       "\n",
       "    .dataframe tbody tr th {\n",
       "        vertical-align: top;\n",
       "    }\n",
       "\n",
       "    .dataframe thead th {\n",
       "        text-align: right;\n",
       "    }\n",
       "</style>\n",
       "<table border=\"1\" class=\"dataframe\">\n",
       "  <thead>\n",
       "    <tr style=\"text-align: right;\">\n",
       "      <th></th>\n",
       "      <th>Density</th>\n",
       "      <th>Line</th>\n",
       "    </tr>\n",
       "  </thead>\n",
       "  <tbody>\n",
       "    <tr>\n",
       "      <th>0</th>\n",
       "      <td>71.624345</td>\n",
       "      <td>A</td>\n",
       "    </tr>\n",
       "    <tr>\n",
       "      <th>1</th>\n",
       "      <td>69.388244</td>\n",
       "      <td>A</td>\n",
       "    </tr>\n",
       "    <tr>\n",
       "      <th>2</th>\n",
       "      <td>69.471828</td>\n",
       "      <td>A</td>\n",
       "    </tr>\n",
       "    <tr>\n",
       "      <th>3</th>\n",
       "      <td>68.927031</td>\n",
       "      <td>A</td>\n",
       "    </tr>\n",
       "    <tr>\n",
       "      <th>4</th>\n",
       "      <td>70.865408</td>\n",
       "      <td>A</td>\n",
       "    </tr>\n",
       "  </tbody>\n",
       "</table>\n",
       "</div>"
      ],
      "text/plain": [
       "     Density Line\n",
       "0  71.624345    A\n",
       "1  69.388244    A\n",
       "2  69.471828    A\n",
       "3  68.927031    A\n",
       "4  70.865408    A"
      ]
     },
     "execution_count": 6,
     "metadata": {},
     "output_type": "execute_result"
    }
   ],
   "source": [
    "data1.head()"
   ]
  },
  {
   "cell_type": "code",
   "execution_count": null,
   "id": "80feccee",
   "metadata": {},
   "outputs": [
    {
     "data": {
      "text/plain": [
       "<Axes: xlabel='Line', ylabel='Density'>"
      ]
     },
     "execution_count": 10,
     "metadata": {},
     "output_type": "execute_result"
    },
    {
     "data": {
      "image/png": "[encoded data removed]",
      "text/plain": [
       "<Figure size 1000x500 with 1 Axes>"
      ]
     },
     "metadata": {},
     "output_type": "display_data"
    }
   ],
   "source": [
    "# 横軸に製造ライン、縦軸に濃度をとった箱ひげ図\n",
    "f, axes = plt.subplots(1, 1, figsize=(10,5))\n",
    "\n",
    "sns.boxplot(x='Line', y='Density', data=data1, ax=axes)"
   ]
  },
  {
   "cell_type": "code",
   "execution_count": 14,
   "id": "5c0b5a0f",
   "metadata": {},
   "outputs": [
    {
     "data": {
      "text/plain": [
       "np.float64(684.2904350984495)"
      ]
     },
     "execution_count": 14,
     "metadata": {},
     "output_type": "execute_result"
    }
   ],
   "source": [
    "np.sum(data1.query('Line == \"C\"')['Density'])"
   ]
  },
  {
   "cell_type": "code",
   "execution_count": 12,
   "id": "73ce3c7e",
   "metadata": {},
   "outputs": [
    {
     "name": "stdout",
     "output_type": "stream",
     "text": [
      "69.9028591091939 69.36865005840154 68.42904350984494 68.73809656689362 69.23379915563066\n"
     ]
    }
   ],
   "source": [
    "# 5つの製造ラインごとの濃度の平均値を計算\n",
    "me_Line_A = np.mean(data1.query('Line == \"A\"')['Density'])\n",
    "me_Line_B = np.mean(data1.query('Line == \"B\"')['Density'])\n",
    "me_Line_C = np.mean(data1.query('Line == \"C\"')['Density'])\n",
    "me_Line_D = np.mean(data1.query('Line == \"D\"')['Density'])\n",
    "me_Line_E = np.mean(data1.query('Line == \"E\"')['Density'])\n",
    "\n",
    "print(me_Line_A, me_Line_B, me_Line_C, me_Line_D, me_Line_E)"
   ]
  },
  {
   "cell_type": "code",
   "execution_count": 27,
   "id": "101dea04",
   "metadata": {},
   "outputs": [
    {
     "data": {
      "text/plain": [
       "np.float64(69.13448967999292)"
      ]
     },
     "execution_count": 27,
     "metadata": {},
     "output_type": "execute_result"
    }
   ],
   "source": [
    "# 全データの濃度の平均値を計算\n",
    "mu_all = np.mean(data1['Density'])\n",
    "mu_all"
   ]
  },
  {
   "cell_type": "code",
   "execution_count": null,
   "id": "0ba9ec54",
   "metadata": {},
   "outputs": [
    {
     "data": {
      "text/plain": [
       "np.float64(13.098668335875512)"
      ]
     },
     "execution_count": 32,
     "metadata": {},
     "output_type": "execute_result"
    }
   ],
   "source": [
    "# 分散分析に必要な以下の要素を計算で求める\n",
    "# 効果の平方和\n",
    "mu_n_list = [me_Line_A] * data1.query('Line == \"A\"').shape[0] + \\\n",
    "            [me_Line_B] * data1.query('Line == \"B\"').shape[0] + \\\n",
    "            [me_Line_C] * data1.query('Line == \"C\"').shape[0] + \\\n",
    "            [me_Line_D] * data1.query('Line == \"D\"').shape[0] + \\\n",
    "            [me_Line_E] * data1.query('Line == \"E\"').shape[0] \n",
    "\n",
    "# 各要素の平均値\n",
    "mu_n = np.array(mu_n_list)\n",
    "# print(mu_n)\n",
    "\n",
    "# 全体平均との差\n",
    "effect = mu_n - mu_all\n",
    "# print(effect)\n",
    "\n",
    "# 差の平方和\n",
    "squares_feed = np.sum(effect**2)\n",
    "squares_feed"
   ]
  },
  {
   "cell_type": "code",
   "execution_count": 36,
   "id": "8868a3c8",
   "metadata": {},
   "outputs": [
    {
     "data": {
      "text/plain": [
       "np.float64(67.4069531127806)"
      ]
     },
     "execution_count": 36,
     "metadata": {},
     "output_type": "execute_result"
    }
   ],
   "source": [
    "# 誤差の平方和\n",
    "resid = data1['Density'] - mu_n\n",
    "\n",
    "squares_resid = np.sum(resid**2)\n",
    "squares_resid"
   ]
  },
  {
   "cell_type": "code",
   "execution_count": null,
   "id": "bbf149c1",
   "metadata": {},
   "outputs": [
    {
     "data": {
      "text/plain": [
       "np.int64(45)"
      ]
     },
     "execution_count": 49,
     "metadata": {},
     "output_type": "execute_result"
    }
   ],
   "source": [
    "# 効果の自由度\n",
    "df_line = data1['Line'].nunique() - 1\n",
    "# 誤差の自由度\n",
    "df_resid = (data1['Line'].value_counts() - 1).sum()"
   ]
  },
  {
   "cell_type": "code",
   "execution_count": 51,
   "id": "42b22b91",
   "metadata": {},
   "outputs": [
    {
     "name": "stdout",
     "output_type": "stream",
     "text": [
      "3.274667083968878\n",
      "1.4979322913951245\n"
     ]
    }
   ],
   "source": [
    "# 効果の分散\n",
    "variance_feed = squares_feed/df_line\n",
    "print(variance_feed)\n",
    "# 誤差の分散\n",
    "variance_resid = squares_resid/df_resid\n",
    "print(variance_resid)"
   ]
  },
  {
   "cell_type": "code",
   "execution_count": 52,
   "id": "c0899cfa",
   "metadata": {},
   "outputs": [
    {
     "data": {
      "text/plain": [
       "np.float64(2.1861249021602718)"
      ]
     },
     "execution_count": 52,
     "metadata": {},
     "output_type": "execute_result"
    }
   ],
   "source": [
    "# F比を計算\n",
    "f_ratio = variance_feed/variance_resid\n",
    "f_ratio"
   ]
  },
  {
   "cell_type": "code",
   "execution_count": 54,
   "id": "1e9226db",
   "metadata": {},
   "outputs": [
    {
     "data": {
      "text/plain": [
       "np.float64(0.08574964851206646)"
      ]
     },
     "execution_count": 54,
     "metadata": {},
     "output_type": "execute_result"
    }
   ],
   "source": [
    "# p値を計算\n",
    "1-sp.stats.f.cdf(x=f_ratio, dfn=df_line, dfd=df_resid)"
   ]
  },
  {
   "cell_type": "code",
   "execution_count": null,
   "id": "d302ec3e",
   "metadata": {},
   "outputs": [
    {
     "data": {
      "text/html": [
       "<div>\n",
       "<style scoped>\n",
       "    .dataframe tbody tr th:only-of-type {\n",
       "        vertical-align: middle;\n",
       "    }\n",
       "\n",
       "    .dataframe tbody tr th {\n",
       "        vertical-align: top;\n",
       "    }\n",
       "\n",
       "    .dataframe thead th {\n",
       "        text-align: right;\n",
       "    }\n",
       "</style>\n",
       "<table border=\"1\" class=\"dataframe\">\n",
       "  <thead>\n",
       "    <tr style=\"text-align: right;\">\n",
       "      <th></th>\n",
       "      <th>sum_sq</th>\n",
       "      <th>df</th>\n",
       "      <th>F</th>\n",
       "      <th>PR(&gt;F)</th>\n",
       "    </tr>\n",
       "  </thead>\n",
       "  <tbody>\n",
       "    <tr>\n",
       "      <th>Line</th>\n",
       "      <td>13.098668</td>\n",
       "      <td>4.0</td>\n",
       "      <td>2.186125</td>\n",
       "      <td>0.08575</td>\n",
       "    </tr>\n",
       "    <tr>\n",
       "      <th>Residual</th>\n",
       "      <td>67.406953</td>\n",
       "      <td>45.0</td>\n",
       "      <td>NaN</td>\n",
       "      <td>NaN</td>\n",
       "    </tr>\n",
       "  </tbody>\n",
       "</table>\n",
       "</div>"
      ],
      "text/plain": [
       "             sum_sq    df         F   PR(>F)\n",
       "Line      13.098668   4.0  2.186125  0.08575\n",
       "Residual  67.406953  45.0       NaN      NaN"
      ]
     },
     "execution_count": 57,
     "metadata": {},
     "output_type": "execute_result"
    }
   ],
   "source": [
    "# statsmodelsで結果をチェック\n",
    "anova_model_1 = smf.ols('Density ~ Line', data=data1).fit()\n",
    "sm.stats.anova_lm(anova_model_1, typ=2)"
   ]
  },
  {
   "cell_type": "markdown",
   "id": "60f0e029",
   "metadata": {},
   "source": [
    "結果：0.08574964851206646\n",
    "PR(>F)　0.08575\n",
    "等しいのでｐ値の計算は正しい\n",
    "\n",
    "有意水準は 5%で今回の結果（p値）が8.575%なので、帰無仮説を棄却できない\n"
   ]
  },
  {
   "cell_type": "markdown",
   "id": "cbd7d2e8",
   "metadata": {},
   "source": []
  }
 ],
 "metadata": {
  "kernelspec": {
   "display_name": ".venv",
   "language": "python",
   "name": "python3"
  },
  "language_info": {
   "codemirror_mode": {
    "name": "ipython",
    "version": 3
   },
   "file_extension": ".py",
   "mimetype": "text/x-python",
   "name": "python",
   "nbconvert_exporter": "python",
   "pygments_lexer": "ipython3",
   "version": "3.12.9"
  }
 },
 "nbformat": 4,
 "nbformat_minor": 5
}
